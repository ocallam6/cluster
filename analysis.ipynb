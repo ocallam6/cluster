{
 "cells": [
  {
   "cell_type": "code",
   "execution_count": 1,
   "id": "9317ece2-45ec-473f-a978-ffb6d6a3b6c3",
   "metadata": {},
   "outputs": [],
   "source": [
    "\n",
    "import astropy.units as u\n",
    "from astropy.coordinates import SkyCoord\n",
    "from astroquery.gaia import Gaia\n",
    "import numpy as np"
   ]
  },
  {
   "cell_type": "code",
   "execution_count": 2,
   "id": "0d2345ab",
   "metadata": {
    "collapsed": false,
    "jupyter": {
     "outputs_hidden": false
    },
    "pycharm": {
     "name": "#%%\n"
    }
   },
   "outputs": [],
   "source": [
    "Gaia.MAIN_GAIA_TABLE = \"gaiadr2.gaia_source\"  # Select Data Release 2, default\n",
    "Gaia.MAIN_GAIA_TABLE = \"gaiaedr3.gaia_source\" # Select early Data Release 3\n",
    "Gaia.ROW_LIMIT=-1\n"
   ]
  },
  {
   "cell_type": "markdown",
   "id": "3948b5a6-5311-46a2-8c74-1e87ecb2c02e",
   "metadata": {},
   "source": [
    "## We first are going to introduce the DAML catalogue for clusters. The goal will be to create an algorithm which can find the cluster and then assign stars in the region to that cluster. A similar idea is employed in https://www.aanda.org/articles/aa/pdf/2002/27/aa2476.pdf"
   ]
  },
  {
   "cell_type": "code",
   "execution_count": 3,
   "id": "469bd4c5-da06-47c8-824d-247b7361cdd4",
   "metadata": {},
   "outputs": [],
   "source": [
    "from astroquery.vizier import Vizier\n",
    "#Vizier.ROW_LIMIT = -1"
   ]
  },
  {
   "cell_type": "code",
   "execution_count": 4,
   "id": "16b8dd55-603b-467d-aafa-fd30f7e4dcd8",
   "metadata": {},
   "outputs": [
    {
     "name": "stderr",
     "output_type": "stream",
     "text": [
      "WARNING: UnitsWarning: The unit 'pix' has been deprecated in the VOUnit standard. [astropy.units.format.utils]\n",
      "WARNING: UnitsWarning: Unit 'Sun' not supported by the VOUnit standard. Did you mean uN? [astropy.units.format.vounit]\n",
      "WARNING: UnitsWarning: The unit 'ct' has been deprecated in the VOUnit standard. [astropy.units.format.utils]\n"
     ]
    }
   ],
   "source": [
    "catalog_list=Vizier.find_catalogs('Dias+ 2002-2015')\n",
    "\n",
    "#This is the DAML globular cluster catalogue \n",
    "#The warnings need to be dealt with"
   ]
  },
  {
   "cell_type": "code",
   "execution_count": 5,
   "id": "6383f608-aac1-4c6f-83c4-6134716c5992",
   "metadata": {},
   "outputs": [
    {
     "name": "stderr",
     "output_type": "stream",
     "text": [
      "WARNING: UnitsWarning: Unit 'Sun' not supported by the VOUnit standard. Did you mean uN? [astropy.units.format.vounit]\n",
      "WARNING: UnitsWarning: The unit 'ct' has been deprecated in the VOUnit standard. [astropy.units.format.utils]\n",
      "WARNING: UnitsWarning: The unit 'pix' has been deprecated in the VOUnit standard. [astropy.units.format.utils]\n"
     ]
    }
   ],
   "source": [
    "#An import of all their values\n",
    "catalogs = Vizier.get_catalogs(catalog_list.values())"
   ]
  },
  {
   "cell_type": "markdown",
   "id": "38c53d4b-eaf4-41b3-8ce6-50bf28d0b5e3",
   "metadata": {},
   "source": [
    "# Catalogs has load of different tables, the second one is the list of clusters"
   ]
  },
  {
   "cell_type": "code",
   "execution_count": 6,
   "id": "e2ffa370-6c02-4073-9f1b-6c0f7f986c4b",
   "metadata": {},
   "outputs": [],
   "source": [
    "cluster_list=catalogs[1] #only has 50 rows"
   ]
  },
  {
   "cell_type": "code",
   "execution_count": 7,
   "id": "5570e9cc-51a2-480d-9487-cca035cdd4d4",
   "metadata": {},
   "outputs": [
    {
     "data": {
      "text/html": [
       "<div><i>Table length=50</i>\n",
       "<table id=\"table1368429127688\" class=\"table-striped table-bordered table-condensed\">\n",
       "<thead><tr><th>P</th><th>Cluster</th><th>RAJ2000</th><th>DEJ2000</th><th>Class</th><th>Diam</th><th>Dist</th><th>E_B-V_</th><th>Age</th><th>pmRA</th><th>pmDE</th><th>Nc</th><th>K14</th><th>RV</th><th>o_RV</th><th>__Fe_H_</th><th>o__Fe_H_</th><th>TrType</th><th>WEBDA</th><th>Lynga</th></tr></thead>\n",
       "<thead><tr><th></th><th></th><th>&quot;h:m:s&quot;</th><th>&quot;d:m:s&quot;</th><th></th><th>arcmin</th><th>pc</th><th>mag</th><th>[yr]</th><th>mas / yr</th><th>mas / yr</th><th></th><th></th><th>km / s</th><th></th><th>Sun</th><th></th><th></th><th></th><th></th></tr></thead>\n",
       "<thead><tr><th>str1</th><th>str17</th><th>str8</th><th>str9</th><th>str2</th><th>float32</th><th>int16</th><th>float32</th><th>float32</th><th>float32</th><th>float32</th><th>int16</th><th>str3</th><th>float32</th><th>int16</th><th>float32</th><th>int16</th><th>str8</th><th>str5</th><th>str5</th></tr></thead>\n",
       "<tr><td>P</td><td>Blanco 1</td><td>00 04 07</td><td>-29 50 00</td><td></td><td>70.0</td><td>269</td><td>0.010</td><td>7.796</td><td>20.17</td><td>3.00</td><td>27</td><td>K14</td><td>5.53</td><td>49</td><td>0.040</td><td>8</td><td></td><td>WEBDA</td><td>Lynga</td></tr>\n",
       "<tr><td></td><td>Alessi 20</td><td>00 10 34</td><td>+58 45 36</td><td>e</td><td>40.0</td><td>600</td><td>0.220</td><td>6.480</td><td>8.73</td><td>-3.11</td><td>17</td><td>K14</td><td>-11.50</td><td>1</td><td>--</td><td>--</td><td></td><td>WEBDA</td><td>Lynga</td></tr>\n",
       "<tr><td></td><td>NGC 7826</td><td>00 05 17</td><td>-20 41 30</td><td>r</td><td>20.0</td><td>620</td><td>0.030</td><td>9.340</td><td>6.48</td><td>-6.20</td><td>39</td><td>K14</td><td>-4.62</td><td>1</td><td>--</td><td>--</td><td>4-2-p-*</td><td>WEBDA</td><td>Lynga</td></tr>\n",
       "<tr><td>P</td><td>NGC 133</td><td>00 31 19</td><td>+63 21 00</td><td></td><td>7.0</td><td>630</td><td>0.600</td><td>7.000</td><td>-0.70</td><td>-0.40</td><td>8</td><td>K14</td><td>--</td><td>--</td><td>--</td><td>--</td><td>4-1-p-*</td><td>WEBDA</td><td>Lynga</td></tr>\n",
       "<tr><td>P</td><td>NGC 225</td><td>00 43 39</td><td>+61 46 30</td><td></td><td>12.0</td><td>657</td><td>0.274</td><td>8.114</td><td>-1.23</td><td>-0.06</td><td>89</td><td>K14</td><td>-28.00</td><td>1</td><td>--</td><td>--</td><td></td><td>WEBDA</td><td>Lynga</td></tr>\n",
       "<tr><td></td><td>NGC 189</td><td>00 39 35</td><td>+61 05 42</td><td></td><td>5.0</td><td>752</td><td>0.420</td><td>7.000</td><td>-0.36</td><td>-3.02</td><td>80</td><td>K14</td><td>--</td><td>--</td><td>--</td><td>--</td><td></td><td>WEBDA</td><td>Lynga</td></tr>\n",
       "<tr><td></td><td>Berkeley 59</td><td>00 02 14</td><td>+67 25 00</td><td></td><td>10.0</td><td>1000</td><td>1.241</td><td>6.100</td><td>-2.11</td><td>-1.20</td><td>2</td><td>K14</td><td>-5.17</td><td>3</td><td>--</td><td>--</td><td>3-3-m-n</td><td>WEBDA</td><td>Lynga</td></tr>\n",
       "<tr><td></td><td>King 1</td><td>00 22 04</td><td>+64 22 50</td><td>d</td><td>24.6</td><td>1080</td><td>0.760</td><td>9.600</td><td>-2.43</td><td>1.02</td><td>700</td><td>K14</td><td>-38.40</td><td>10</td><td>-0.010</td><td>10</td><td>2-2-r-*</td><td>WEBDA</td><td>Lynga</td></tr>\n",
       "<tr><td></td><td>Stock 20</td><td>00 25 15</td><td>+62 37 00</td><td></td><td>4.0</td><td>1100</td><td>0.200</td><td>8.337</td><td>-2.53</td><td>2.51</td><td>82</td><td>K14</td><td>--</td><td>--</td><td>--</td><td>--</td><td>2-2-p-*</td><td>WEBDA</td><td>Lynga</td></tr>\n",
       "<tr><td>...</td><td>...</td><td>...</td><td>...</td><td>...</td><td>...</td><td>...</td><td>...</td><td>...</td><td>...</td><td>...</td><td>...</td><td>...</td><td>...</td><td>...</td><td>...</td><td>...</td><td>...</td><td>...</td><td>...</td></tr>\n",
       "<tr><td></td><td>FSR 0494</td><td>00 25 32</td><td>+63 45 28</td><td>IR</td><td>0.8</td><td>5087</td><td>0.521</td><td>9.300</td><td>-2.87</td><td>-2.72</td><td>9</td><td>K14</td><td>--</td><td>--</td><td>--</td><td>--</td><td></td><td>WEBDA</td><td>Lynga</td></tr>\n",
       "<tr><td></td><td>NGC 136</td><td>00 31 33</td><td>+61 30 30</td><td></td><td>4.0</td><td>5220</td><td>0.700</td><td>8.400</td><td>-0.38</td><td>1.21</td><td>100</td><td>K14</td><td>--</td><td>--</td><td>-0.050</td><td>1</td><td></td><td>WEBDA</td><td>Lynga</td></tr>\n",
       "<tr><td>P</td><td>Berkeley 2</td><td>00 25 18</td><td>+60 24 00</td><td></td><td>2.0</td><td>5250</td><td>0.800</td><td>8.900</td><td>0.88</td><td>-2.50</td><td>14</td><td>K14</td><td>--</td><td>--</td><td>--</td><td>--</td><td></td><td>WEBDA</td><td>Lynga</td></tr>\n",
       "<tr><td></td><td>FSR 0480</td><td>00 14 55</td><td>+61 28 23</td><td>IR</td><td>1.5</td><td>5492</td><td>0.937</td><td>9.300</td><td>-1.66</td><td>-1.81</td><td>24</td><td>K14</td><td>--</td><td>--</td><td>--</td><td>--</td><td></td><td>WEBDA</td><td>Lynga</td></tr>\n",
       "<tr><td></td><td>FSR 0508</td><td>00 41 58</td><td>+64 58 52</td><td>IR</td><td>2.5</td><td>5501</td><td>1.199</td><td>9.180</td><td>1.72</td><td>-0.47</td><td>8</td><td>K14</td><td>--</td><td>--</td><td>--</td><td>--</td><td></td><td>WEBDA</td><td>Lynga</td></tr>\n",
       "<tr><td></td><td>Majaess 9</td><td>00 21 13</td><td>+63 19 28</td><td>IR</td><td>2.0</td><td>--</td><td>--</td><td>--</td><td>--</td><td>--</td><td>--</td><td>K14</td><td>--</td><td>--</td><td>--</td><td>--</td><td></td><td>WEBDA</td><td>Lynga</td></tr>\n",
       "<tr><td></td><td>Majaess 8</td><td>00 16 43</td><td>+64 30 21</td><td>IR</td><td>3.0</td><td>--</td><td>--</td><td>--</td><td>-2.38</td><td>2.06</td><td>24</td><td>K14</td><td>--</td><td>--</td><td>--</td><td>--</td><td></td><td>WEBDA</td><td>Lynga</td></tr>\n",
       "<tr><td></td><td>FSR 0505</td><td>00 40 04</td><td>+61 35 52</td><td>IR</td><td>1.2</td><td>--</td><td>--</td><td>--</td><td>-2.03</td><td>-0.19</td><td>23</td><td>K14</td><td>--</td><td>--</td><td>--</td><td>--</td><td></td><td>WEBDA</td><td>Lynga</td></tr>\n",
       "<tr><td></td><td>Majaess 1</td><td>00 07 22</td><td>+64 58 22</td><td>IR</td><td>5.0</td><td>--</td><td>--</td><td>--</td><td>4.63</td><td>1.72</td><td>20</td><td>K14</td><td>--</td><td>--</td><td>--</td><td>--</td><td></td><td>WEBDA</td><td>Lynga</td></tr>\n",
       "<tr><td></td><td>Stock 19</td><td>00 04 41</td><td>+56 05 00</td><td></td><td>4.0</td><td>--</td><td>--</td><td>--</td><td>1.43</td><td>-2.04</td><td>42</td><td>K14</td><td>--</td><td>--</td><td>--</td><td>--</td><td>2-2-p-*</td><td>WEBDA</td><td>Lynga</td></tr>\n",
       "</table></div>"
      ],
      "text/plain": [
       "<Table length=50>\n",
       " P     Cluster   RAJ2000   DEJ2000  Class ... o__Fe_H_  TrType WEBDA Lynga\n",
       "                 \"h:m:s\"   \"d:m:s\"        ...                             \n",
       "str1    str17      str8      str9    str2 ...  int16     str8   str5  str5\n",
       "---- ----------- -------- --------- ----- ... -------- ------- ----- -----\n",
       "   P    Blanco 1 00 04 07 -29 50 00       ...        8         WEBDA Lynga\n",
       "       Alessi 20 00 10 34 +58 45 36     e ...       --         WEBDA Lynga\n",
       "        NGC 7826 00 05 17 -20 41 30     r ...       -- 4-2-p-* WEBDA Lynga\n",
       "   P     NGC 133 00 31 19 +63 21 00       ...       -- 4-1-p-* WEBDA Lynga\n",
       "   P     NGC 225 00 43 39 +61 46 30       ...       --         WEBDA Lynga\n",
       "         NGC 189 00 39 35 +61 05 42       ...       --         WEBDA Lynga\n",
       "     Berkeley 59 00 02 14 +67 25 00       ...       -- 3-3-m-n WEBDA Lynga\n",
       "          King 1 00 22 04 +64 22 50     d ...       10 2-2-r-* WEBDA Lynga\n",
       "        Stock 20 00 25 15 +62 37 00       ...       -- 2-2-p-* WEBDA Lynga\n",
       " ...         ...      ...       ...   ... ...      ...     ...   ...   ...\n",
       "        FSR 0494 00 25 32 +63 45 28    IR ...       --         WEBDA Lynga\n",
       "         NGC 136 00 31 33 +61 30 30       ...        1         WEBDA Lynga\n",
       "   P  Berkeley 2 00 25 18 +60 24 00       ...       --         WEBDA Lynga\n",
       "        FSR 0480 00 14 55 +61 28 23    IR ...       --         WEBDA Lynga\n",
       "        FSR 0508 00 41 58 +64 58 52    IR ...       --         WEBDA Lynga\n",
       "       Majaess 9 00 21 13 +63 19 28    IR ...       --         WEBDA Lynga\n",
       "       Majaess 8 00 16 43 +64 30 21    IR ...       --         WEBDA Lynga\n",
       "        FSR 0505 00 40 04 +61 35 52    IR ...       --         WEBDA Lynga\n",
       "       Majaess 1 00 07 22 +64 58 22    IR ...       --         WEBDA Lynga\n",
       "        Stock 19 00 04 41 +56 05 00       ...       -- 2-2-p-* WEBDA Lynga"
      ]
     },
     "execution_count": 7,
     "metadata": {},
     "output_type": "execute_result"
    }
   ],
   "source": [
    "sorted_cluster_list=cluster_list[np.argsort(cluster_list['Dist'])]\n",
    "\n",
    "sorted_cluster_list"
   ]
  },
  {
   "cell_type": "markdown",
   "id": "55b8ec03-aec0-4b2c-a865-80871157e4d4",
   "metadata": {},
   "source": [
    "# There will be error on our measurements of the distance to our stars, reference Bailey Jones, so we want to order the clusters by the nearest ones\n",
    "# We can look at the paper Dias for error on the distance measuremenet about the cluster, must be some error involved"
   ]
  },
  {
   "cell_type": "markdown",
   "id": "399757aa-0f58-43ce-bcf0-e0c8a0332fb6",
   "metadata": {
    "pycharm": {
     "name": "#%% md\n"
    }
   },
   "source": [
    "The closest ones of course will have the smallest error when relating to Bailer Jones parallax inversion,\n",
    "without doing anything rigarous we will take the closest star cluster and look at gaia data just by inverting the parallax to get\n",
    "a measurement. We will take a window of twice the diameter, and depth twice the diameter.\n"
   ]
  },
  {
   "cell_type": "code",
   "execution_count": 8,
   "id": "e0cf8999-447b-4e0d-8f31-f79d0e559d0a",
   "metadata": {},
   "outputs": [
    {
     "data": {
      "text/html": [
       "<i>Row index=0</i>\n",
       "<table id=\"table1368429127688\">\n",
       "<thead><tr><th>P</th><th>Cluster</th><th>RAJ2000</th><th>DEJ2000</th><th>Class</th><th>Diam</th><th>Dist</th><th>E_B-V_</th><th>Age</th><th>pmRA</th><th>pmDE</th><th>Nc</th><th>K14</th><th>RV</th><th>o_RV</th><th>__Fe_H_</th><th>o__Fe_H_</th><th>TrType</th><th>WEBDA</th><th>Lynga</th></tr></thead>\n",
       "<thead><tr><th></th><th></th><th>&quot;h:m:s&quot;</th><th>&quot;d:m:s&quot;</th><th></th><th>arcmin</th><th>pc</th><th>mag</th><th>[yr]</th><th>mas / yr</th><th>mas / yr</th><th></th><th></th><th>km / s</th><th></th><th>Sun</th><th></th><th></th><th></th><th></th></tr></thead>\n",
       "<thead><tr><th>str1</th><th>str17</th><th>str8</th><th>str9</th><th>str2</th><th>float32</th><th>int16</th><th>float32</th><th>float32</th><th>float32</th><th>float32</th><th>int16</th><th>str3</th><th>float32</th><th>int16</th><th>float32</th><th>int16</th><th>str8</th><th>str5</th><th>str5</th></tr></thead>\n",
       "<tr><td>P</td><td>Blanco 1</td><td>00 04 07</td><td>-29 50 00</td><td></td><td>70.0</td><td>269</td><td>0.010</td><td>7.796</td><td>20.17</td><td>3.00</td><td>27</td><td>K14</td><td>5.53</td><td>49</td><td>0.040</td><td>8</td><td></td><td>WEBDA</td><td>Lynga</td></tr>\n",
       "</table>"
      ],
      "text/plain": [
       "<Row index=0>\n",
       " P   Cluster  RAJ2000   DEJ2000  Class   Diam   Dist  E_B-V_   Age     pmRA     pmDE     Nc  K14     RV    o_RV __Fe_H_ o__Fe_H_ TrType WEBDA Lynga\n",
       "              \"h:m:s\"   \"d:m:s\"         arcmin   pc    mag     [yr]  mas / yr mas / yr             km / s         Sun                              \n",
       "str1  str17     str8      str9    str2 float32 int16 float32 float32 float32  float32  int16 str3 float32 int16 float32  int16    str8   str5  str5\n",
       "---- -------- -------- --------- ----- ------- ----- ------- ------- -------- -------- ----- ---- ------- ----- ------- -------- ------ ----- -----\n",
       "   P Blanco 1 00 04 07 -29 50 00          70.0   269   0.010   7.796    20.17     3.00    27  K14    5.53    49   0.040        8        WEBDA Lynga"
      ]
     },
     "execution_count": 8,
     "metadata": {},
     "output_type": "execute_result"
    }
   ],
   "source": [
    "#Taking the closest cluster\n",
    "closest_cluster=sorted_cluster_list[0]\n",
    "closest_cluster\n",
    "\n"
   ]
  },
  {
   "cell_type": "markdown",
   "id": "162149ad",
   "metadata": {
    "pycharm": {
     "name": "#%% md\n"
    }
   },
   "source": [
    "So we can see there is a diameter of 70.0 arcseconds, we will use a window of size 140.0 arcseconds.\n",
    "We have a distance measurement of 269pc. We need to get distance estimates of the Gaia Data in that region"
   ]
  },
  {
   "cell_type": "markdown",
   "id": "6f9063e1",
   "metadata": {
    "pycharm": {
     "name": "#%% md\n"
    }
   },
   "source": [
    "Next we are going to call in the GAIA data centered around the catalogued open cluster"
   ]
  },
  {
   "cell_type": "code",
   "execution_count": 48,
   "id": "f8fb314d",
   "metadata": {
    "collapsed": false,
    "jupyter": {
     "outputs_hidden": false
    },
    "pycharm": {
     "name": "#%%\n"
    }
   },
   "outputs": [
    {
     "name": "stdout",
     "output_type": "stream",
     "text": [
      "Launched query: '\n",
      "                SELECT\n",
      "                  \n",
      "                  *,\n",
      "                  DISTANCE(\n",
      "                    POINT('ICRS', ra, dec),\n",
      "                    POINT('ICRS', 1.0291698321917175, -29.833330905250314)\n",
      "                  ) AS dist\n",
      "                FROM\n",
      "                  gaiaedr3.gaia_source\n",
      "                WHERE\n",
      "                  1 = CONTAINS(\n",
      "                    POINT('ICRS', ra, dec),\n",
      "                    CIRCLE('ICRS', 1.0291698321917175, -29.833330905250314, 1.1666666666666667)\n",
      "                  )\n",
      "                ORDER BY\n",
      "                  dist ASC\n",
      "                '\n",
      "------>https\n",
      "host = gea.esac.esa.int:443\n",
      "context = /tap-server/tap/async\n",
      "Content-type = application/x-www-form-urlencoded\n",
      "303 303\n",
      "[('Date', 'Thu, 02 Dec 2021 18:46:16 GMT'), ('Server', 'Apache/2.4.6 (CentOS) OpenSSL/1.0.2k-fips PHP/5.4.16 mod_jk/1.2.43'), ('Cache-Control', 'no-cache, no-store, max-age=0, must-revalidate'), ('Pragma', 'no-cache'), ('Expires', '0'), ('X-XSS-Protection', '1; mode=block'), ('X-Frame-Options', 'SAMEORIGIN'), ('X-Content-Type-Options', 'nosniff'), ('Set-Cookie', 'JSESSIONID=139D8BA3CBE1535346BEA92577E69F03; Path=/tap-server; Secure; HttpOnly'), ('Location', 'https://gea.esac.esa.int/tap-server/tap/async/1638470776830O'), ('Transfer-Encoding', 'chunked'), ('Content-Type', 'text/plain;charset=ISO-8859-1')]\n",
      "job 1638470776830O, at: https://gea.esac.esa.int/tap-server/tap/async/1638470776830O\n",
      "Retrieving async. results...\n",
      "INFO: Query finished. [astroquery.utils.tap.core]\n"
     ]
    }
   ],
   "source": [
    "#Looking at the cone around the point\n",
    "right_as_center=closest_cluster['RAJ2000']\n",
    "dec_center=closest_cluster['DEJ2000']\n",
    "diam=closest_cluster['Diam']\n",
    "\n",
    "#is the frame right\n",
    "coord = SkyCoord(right_as_center+dec_center, unit=(u.hourangle, u.deg))\n",
    "rad = u.Quantity(diam, u.arcminute)\n",
    "\n",
    "r = Gaia.cone_search_async(coordinate=coord, radius=rad, verbose=True)\n",
    "gaia_edr3=r.get_results()"
   ]
  },
  {
   "cell_type": "code",
   "execution_count": 54,
   "id": "a8f686a0",
   "metadata": {
    "collapsed": false,
    "jupyter": {
     "outputs_hidden": false
    },
    "pycharm": {
     "name": "#%%\n"
    }
   },
   "outputs": [
    {
     "data": {
      "text/html": [
       "<div><i>Table length=13904</i>\n",
       "<table id=\"table1368434783368\" class=\"table-striped table-bordered table-condensed\">\n",
       "<thead><tr><th>solution_id</th><th>designation</th><th>source_id</th><th>random_index</th><th>ref_epoch</th><th>ra</th><th>ra_error</th><th>dec</th><th>dec_error</th><th>parallax</th><th>parallax_error</th><th>parallax_over_error</th><th>pm</th><th>pmra</th><th>pmra_error</th><th>pmdec</th><th>pmdec_error</th><th>ra_dec_corr</th><th>ra_parallax_corr</th><th>ra_pmra_corr</th><th>ra_pmdec_corr</th><th>dec_parallax_corr</th><th>dec_pmra_corr</th><th>dec_pmdec_corr</th><th>parallax_pmra_corr</th><th>parallax_pmdec_corr</th><th>pmra_pmdec_corr</th><th>astrometric_n_obs_al</th><th>astrometric_n_obs_ac</th><th>astrometric_n_good_obs_al</th><th>astrometric_n_bad_obs_al</th><th>astrometric_gof_al</th><th>astrometric_chi2_al</th><th>astrometric_excess_noise</th><th>astrometric_excess_noise_sig</th><th>astrometric_params_solved</th><th>astrometric_primary_flag</th><th>nu_eff_used_in_astrometry</th><th>pseudocolour</th><th>pseudocolour_error</th><th>ra_pseudocolour_corr</th><th>dec_pseudocolour_corr</th><th>parallax_pseudocolour_corr</th><th>pmra_pseudocolour_corr</th><th>pmdec_pseudocolour_corr</th><th>astrometric_matched_transits</th><th>visibility_periods_used</th><th>astrometric_sigma5d_max</th><th>matched_transits</th><th>new_matched_transits</th><th>matched_transits_removed</th><th>ipd_gof_harmonic_amplitude</th><th>ipd_gof_harmonic_phase</th><th>ipd_frac_multi_peak</th><th>ipd_frac_odd_win</th><th>ruwe</th><th>scan_direction_strength_k1</th><th>scan_direction_strength_k2</th><th>scan_direction_strength_k3</th><th>scan_direction_strength_k4</th><th>scan_direction_mean_k1</th><th>scan_direction_mean_k2</th><th>scan_direction_mean_k3</th><th>scan_direction_mean_k4</th><th>duplicated_source</th><th>phot_g_n_obs</th><th>phot_g_mean_flux</th><th>phot_g_mean_flux_error</th><th>phot_g_mean_flux_over_error</th><th>phot_g_mean_mag</th><th>phot_bp_n_obs</th><th>phot_bp_mean_flux</th><th>phot_bp_mean_flux_error</th><th>phot_bp_mean_flux_over_error</th><th>phot_bp_mean_mag</th><th>phot_rp_n_obs</th><th>phot_rp_mean_flux</th><th>phot_rp_mean_flux_error</th><th>phot_rp_mean_flux_over_error</th><th>phot_rp_mean_mag</th><th>phot_bp_n_contaminated_transits</th><th>phot_bp_n_blended_transits</th><th>phot_rp_n_contaminated_transits</th><th>phot_rp_n_blended_transits</th><th>phot_proc_mode</th><th>phot_bp_rp_excess_factor</th><th>bp_rp</th><th>bp_g</th><th>g_rp</th><th>dr2_radial_velocity</th><th>dr2_radial_velocity_error</th><th>dr2_rv_nb_transits</th><th>dr2_rv_template_teff</th><th>dr2_rv_template_logg</th><th>dr2_rv_template_fe_h</th><th>l</th><th>b</th><th>ecl_lon</th><th>ecl_lat</th><th>dist</th></tr></thead>\n",
       "<thead><tr><th></th><th></th><th></th><th></th><th>yr</th><th>deg</th><th>mas</th><th>deg</th><th>mas</th><th>mas</th><th>mas</th><th></th><th>mas / yr</th><th>mas / yr</th><th>mas / yr</th><th>mas / yr</th><th>mas / yr</th><th></th><th></th><th></th><th></th><th></th><th></th><th></th><th></th><th></th><th></th><th></th><th></th><th></th><th></th><th></th><th></th><th>mas</th><th></th><th></th><th></th><th>1 / um</th><th>1 / um</th><th>1 / um</th><th></th><th></th><th></th><th></th><th></th><th></th><th></th><th>mas</th><th></th><th></th><th></th><th></th><th>deg</th><th></th><th></th><th></th><th></th><th></th><th></th><th></th><th>deg</th><th>deg</th><th>deg</th><th>deg</th><th></th><th></th><th>electron / s</th><th>electron / s</th><th></th><th>mag</th><th></th><th>electron / s</th><th>electron / s</th><th></th><th>mag</th><th></th><th>electron / s</th><th>electron / s</th><th></th><th>mag</th><th></th><th></th><th></th><th></th><th></th><th></th><th>mag</th><th>mag</th><th>mag</th><th>km / s</th><th>km / s</th><th></th><th>K</th><th>log(cm.s**-2)</th><th>dex</th><th>deg</th><th>deg</th><th>deg</th><th>deg</th><th></th></tr></thead>\n",
       "<thead><tr><th>int64</th><th>object</th><th>int64</th><th>int64</th><th>float64</th><th>float64</th><th>float32</th><th>float64</th><th>float32</th><th>float64</th><th>float32</th><th>float32</th><th>float32</th><th>float64</th><th>float32</th><th>float64</th><th>float32</th><th>float32</th><th>float32</th><th>float32</th><th>float32</th><th>float32</th><th>float32</th><th>float32</th><th>float32</th><th>float32</th><th>float32</th><th>int16</th><th>int16</th><th>int16</th><th>int16</th><th>float32</th><th>float32</th><th>float32</th><th>float32</th><th>int16</th><th>bool</th><th>float32</th><th>float32</th><th>float32</th><th>float32</th><th>float32</th><th>float32</th><th>float32</th><th>float32</th><th>int16</th><th>int16</th><th>float32</th><th>int16</th><th>int16</th><th>int16</th><th>float32</th><th>float32</th><th>int16</th><th>int16</th><th>float32</th><th>float32</th><th>float32</th><th>float32</th><th>float32</th><th>float32</th><th>float32</th><th>float32</th><th>float32</th><th>bool</th><th>int16</th><th>float64</th><th>float32</th><th>float32</th><th>float32</th><th>int16</th><th>float64</th><th>float32</th><th>float32</th><th>float32</th><th>int16</th><th>float64</th><th>float32</th><th>float32</th><th>float32</th><th>int16</th><th>int16</th><th>int16</th><th>int16</th><th>int16</th><th>float32</th><th>float32</th><th>float32</th><th>float32</th><th>float32</th><th>float32</th><th>int16</th><th>float32</th><th>float32</th><th>float32</th><th>float64</th><th>float64</th><th>float64</th><th>float64</th><th>float64</th></tr></thead>\n",
       "<tr><td>1636042515805110273</td><td>Gaia EDR3 2320827909591325056</td><td>2320827909591325056</td><td>1592198863</td><td>2016.0</td><td>1.015981930167069</td><td>0.49987766</td><td>-29.824162726631137</td><td>0.41829798</td><td>-2.0865498538758396</td><td>0.5794813</td><td>-3.60072</td><td>0.44665593</td><td>-0.06717043567684688</td><td>0.60586464</td><td>0.44157633587533707</td><td>0.4926354</td><td>-0.10760638</td><td>0.36690092</td><td>0.50589794</td><td>-0.16185193</td><td>-0.3117634</td><td>-0.04303693</td><td>0.5220674</td><td>-0.07245915</td><td>-0.28661653</td><td>0.0006765611</td><td>280</td><td>0</td><td>278</td><td>2</td><td>0.088630415</td><td>292.29675</td><td>0.0</td><td>0.0</td><td>31</td><td>False</td><td>1.566035</td><td>--</td><td>--</td><td>--</td><td>--</td><td>--</td><td>--</td><td>--</td><td>33</td><td>18</td><td>0.887862</td><td>38</td><td>7</td><td>0</td><td>0.021938711</td><td>74.08484</td><td>0</td><td>0</td><td>1.0025731</td><td>0.28142568</td><td>0.20073365</td><td>0.10364383</td><td>0.7032929</td><td>-41.511887</td><td>-1.5073847</td><td>31.989674</td><td>14.577966</td><td>False</td><td>320</td><td>193.81962739049592</td><td>1.1130284</td><td>174.13718</td><td>19.968872</td><td>32</td><td>131.08735452588292</td><td>11.087876</td><td>11.822584</td><td>20.04464</td><td>31</td><td>121.73481299366311</td><td>6.5201693</td><td>18.6705</td><td>19.534359</td><td>0</td><td>0</td><td>0</td><td>0</td><td>0</td><td>1.3044199</td><td>0.5102806</td><td>0.07576752</td><td>0.4345131</td><td>--</td><td>--</td><td>0</td><td>--</td><td>--</td><td>--</td><td>15.632446089530552</td><td>-79.25182926532618</td><td>348.0416582704387</td><td>-27.543343853338374</td><td>0.01466101910210699</td></tr>\n",
       "<tr><td>1636042515805110273</td><td>Gaia EDR3 2320827879527299328</td><td>2320827879527299328</td><td>491857494</td><td>2016.0</td><td>1.049900291744989</td><td>3.6796942</td><td>-29.825765274127917</td><td>4.589537</td><td>--</td><td>--</td><td>--</td><td>--</td><td>--</td><td>--</td><td>--</td><td>--</td><td>-0.73318756</td><td>--</td><td>--</td><td>--</td><td>--</td><td>--</td><td>--</td><td>--</td><td>--</td><td>--</td><td>60</td><td>0</td><td>60</td><td>0</td><td>1.3005557</td><td>69.02051</td><td>3.63674</td><td>1.0806805</td><td>3</td><td>False</td><td>--</td><td>--</td><td>--</td><td>--</td><td>--</td><td>--</td><td>--</td><td>--</td><td>7</td><td>6</td><td>16.453836</td><td>7</td><td>1</td><td>0</td><td>0.043064296</td><td>73.83393</td><td>0</td><td>0</td><td>--</td><td>0.36006913</td><td>0.40034622</td><td>0.14367771</td><td>0.57642585</td><td>-48.179688</td><td>-0.9969285</td><td>33.567284</td><td>8.606766</td><td>False</td><td>54</td><td>79.58971999512183</td><td>1.2814075</td><td>62.11117</td><td>20.935225</td><td>5</td><td>92.35833670768532</td><td>9.687845</td><td>9.533424</td><td>20.424852</td><td>7</td><td>45.123331264682825</td><td>9.897759</td><td>4.558944</td><td>20.611893</td><td>0</td><td>0</td><td>0</td><td>0</td><td>1</td><td>1.7273797</td><td>-0.18704033</td><td>-0.51037216</td><td>0.32333183</td><td>--</td><td>--</td><td>0</td><td>--</td><td>--</td><td>--</td><td>15.592078596100713</td><td>-79.28032351024785</td><td>348.07051027164346</td><td>-27.557975969969185</td><td>0.019510459589990703</td></tr>\n",
       "<tr><td>1636042515805110273</td><td>Gaia EDR3 2320828016966776704</td><td>2320828016966776704</td><td>803198894</td><td>2016.0</td><td>0.9996358407890182</td><td>0.053937282</td><td>-29.830558439135345</td><td>0.045994688</td><td>0.4912913455963254</td><td>0.06244889</td><td>7.867095</td><td>38.549355</td><td>32.22156209013474</td><td>0.06695353</td><td>-21.16184334947898</td><td>0.0555278</td><td>-0.08725804</td><td>0.19537985</td><td>0.42476335</td><td>-0.09526737</td><td>-0.40222782</td><td>0.05024439</td><td>0.60675234</td><td>-0.15814595</td><td>-0.41453725</td><td>0.08816151</td><td>283</td><td>0</td><td>282</td><td>1</td><td>1.4669574</td><td>325.17023</td><td>0.112067275</td><td>0.6920946</td><td>31</td><td>False</td><td>1.5686761</td><td>--</td><td>--</td><td>--</td><td>--</td><td>--</td><td>--</td><td>--</td><td>32</td><td>17</td><td>0.09724166</td><td>38</td><td>6</td><td>0</td><td>0.01316575</td><td>54.344112</td><td>0</td><td>0</td><td>1.0617402</td><td>0.25724766</td><td>0.25002736</td><td>0.06308603</td><td>0.68513995</td><td>-43.60395</td><td>-1.7891732</td><td>30.427011</td><td>13.343879</td><td>False</td><td>329</td><td>4813.908962136949</td><td>2.5867367</td><td>1860.997</td><td>16.481123</td><td>35</td><td>2646.7081491392987</td><td>16.831333</td><td>157.24887</td><td>16.781776</td><td>35</td><td>3090.58017538202</td><td>10.884958</td><td>283.93127</td><td>16.022795</td><td>0</td><td>0</td><td>0</td><td>0</td><td>0</td><td>1.1918149</td><td>0.7589817</td><td>0.30065346</td><td>0.45832825</td><td>--</td><td>--</td><td>0</td><td>--</td><td>--</td><td>--</td><td>15.614211566765114</td><td>-79.23664977667246</td><td>348.0241286320459</td><td>-27.542699275457228</td><td>0.025769962228810034</td></tr>\n",
       "<tr><td>1636042515805110273</td><td>Gaia EDR3 2320828154405729920</td><td>2320828154405729920</td><td>608978002</td><td>2016.0</td><td>1.0157470423799826</td><td>0.014082383</td><td>-29.80714734639466</td><td>0.014017841</td><td>1.15571479632847</td><td>0.01717119</td><td>67.30546</td><td>14.324831</td><td>13.238165874214593</td><td>0.016282195</td><td>5.472820224948256</td><td>0.016978195</td><td>-0.004137917</td><td>0.26556116</td><td>0.43115026</td><td>-0.02929912</td><td>-0.3165953</td><td>0.10379909</td><td>0.648158</td><td>-0.09939502</td><td>-0.34550136</td><td>0.15432055</td><td>310</td><td>0</td><td>309</td><td>1</td><td>0.71553564</td><td>323.20364</td><td>0.0</td><td>0.0</td><td>31</td><td>True</td><td>1.5703462</td><td>--</td><td>--</td><td>--</td><td>--</td><td>--</td><td>--</td><td>--</td><td>35</td><td>17</td><td>0.026790187</td><td>41</td><td>7</td><td>0</td><td>0.019693084</td><td>51.679153</td><td>0</td><td>0</td><td>1.0280519</td><td>0.34694088</td><td>0.15579143</td><td>0.13973743</td><td>0.70860094</td><td>-43.65529</td><td>-11.15308</td><td>35.098454</td><td>14.626705</td><td>False</td><td>348</td><td>61825.13821839574</td><td>13.095062</td><td>4721.256</td><td>13.709455</td><td>37</td><td>34057.61952468854</td><td>24.93525</td><td>1365.8424</td><td>14.008006</td><td>36</td><td>39783.84038254493</td><td>24.487486</td><td>1624.66</td><td>13.248629</td><td>0</td><td>0</td><td>0</td><td>0</td><td>0</td><td>1.1943598</td><td>0.7593775</td><td>0.29855156</td><td>0.46082592</td><td>--</td><td>--</td><td>0</td><td>--</td><td>--</td><td>--</td><td>15.722057041065966</td><td>-79.25504852646613</td><td>348.05005956353097</td><td>-27.528044576804728</td><td>0.028656515226648617</td></tr>\n",
       "<tr><td>1636042515805110273</td><td>Gaia EDR3 2320828154405156992</td><td>2320828154405156992</td><td>1784718200</td><td>2016.0</td><td>1.0137115245250907</td><td>3.3971004</td><td>-29.806301596653043</td><td>14.227665</td><td>--</td><td>--</td><td>--</td><td>--</td><td>--</td><td>--</td><td>--</td><td>--</td><td>0.46252704</td><td>--</td><td>--</td><td>--</td><td>--</td><td>--</td><td>--</td><td>--</td><td>--</td><td>--</td><td>59</td><td>0</td><td>58</td><td>1</td><td>-1.4279873</td><td>39.068954</td><td>0.0</td><td>0.0</td><td>3</td><td>False</td><td>--</td><td>--</td><td>--</td><td>--</td><td>--</td><td>--</td><td>--</td><td>--</td><td>7</td><td>6</td><td>40.6659</td><td>7</td><td>1</td><td>0</td><td>0.13719054</td><td>68.98683</td><td>0</td><td>0</td><td>--</td><td>0.5472707</td><td>0.5244831</td><td>0.2262839</td><td>0.6144505</td><td>-22.462425</td><td>-9.2683525</td><td>18.210709</td><td>3.370087</td><td>False</td><td>57</td><td>79.42327731111229</td><td>1.6738709</td><td>47.448868</td><td>20.937498</td><td>7</td><td>113.89182552587829</td><td>33.11142</td><td>3.4396539</td><td>20.197311</td><td>3</td><td>63.5083704599578</td><td>2.2283595</td><td>28.500057</td><td>20.240818</td><td>0</td><td>0</td><td>0</td><td>1</td><td>0</td><td>2.2336047</td><td>-0.043506622</td><td>-0.7401867</td><td>0.69668007</td><td>--</td><td>--</td><td>0</td><td>--</td><td>--</td><td>--</td><td>15.72839700151553</td><td>-79.25348726620362</td><td>348.04870712301096</td><td>-27.5264965214057</td><td>0.030173706887443162</td></tr>\n",
       "<tr><td>1636042515805110273</td><td>Gaia EDR3 2320824787151370880</td><td>2320824787151370880</td><td>1188129268</td><td>2016.0</td><td>1.0317841416135451</td><td>0.028885612</td><td>-29.865043440112412</td><td>0.02372722</td><td>10.381559377424178</td><td>0.035249826</td><td>294.51376</td><td>107.23073</td><td>-92.22934572349578</td><td>0.032122742</td><td>-54.700787474652145</td><td>0.026198907</td><td>-0.12575452</td><td>0.34465614</td><td>0.12220196</td><td>-0.109874204</td><td>-0.4031803</td><td>0.015718088</td><td>0.35436672</td><td>-0.054769963</td><td>-0.29372436</td><td>0.05535707</td><td>268</td><td>0</td><td>266</td><td>2</td><td>1.5397696</td><td>301.7726</td><td>0.08356476</td><td>1.2050364</td><td>31</td><td>True</td><td>1.2681991</td><td>--</td><td>--</td><td>--</td><td>--</td><td>--</td><td>--</td><td>--</td><td>31</td><td>18</td><td>0.044778727</td><td>37</td><td>10</td><td>0</td><td>0.0112165</td><td>58.4609</td><td>0</td><td>0</td><td>1.06684</td><td>0.2758586</td><td>0.23332408</td><td>0.14436162</td><td>0.6717095</td><td>-65.498856</td><td>-3.490558</td><td>54.129444</td><td>14.788246</td><td>False</td><td>311</td><td>15495.096130192256</td><td>8.199875</td><td>1889.6747</td><td>15.211882</td><td>36</td><td>2841.121613591703</td><td>15.099453</td><td>188.16057</td><td>16.704817</td><td>36</td><td>19615.31144429517</td><td>22.821102</td><td>859.52515</td><td>14.016407</td><td>0</td><td>1</td><td>0</td><td>0</td><td>0</td><td>1.4492606</td><td>2.6884098</td><td>1.4929352</td><td>1.1954746</td><td>--</td><td>--</td><td>0</td><td>--</td><td>--</td><td>--</td><td>15.402809513372297</td><td>-79.25692192381801</td><td>348.0347873358142</td><td>-27.586028749557798</td><td>0.03179349592962388</td></tr>\n",
       "<tr><td>1636042515805110273</td><td>Gaia EDR3 2320827707729132032</td><td>2320827707729132032</td><td>1011492218</td><td>2016.0</td><td>1.017579684626305</td><td>0.074922025</td><td>-29.864045644492617</td><td>0.061064415</td><td>1.0160401945374267</td><td>0.08413445</td><td>12.076386</td><td>1.3523475</td><td>0.5410750631416021</td><td>0.08533715</td><td>-1.2393875851947773</td><td>0.07299466</td><td>-0.030418692</td><td>0.26980016</td><td>0.25123316</td><td>-0.05649393</td><td>-0.26645848</td><td>0.029023541</td><td>0.45797348</td><td>-0.011694023</td><td>-0.2672613</td><td>0.10090614</td><td>292</td><td>0</td><td>291</td><td>1</td><td>6.0655456</td><td>476.8322</td><td>0.41046622</td><td>5.7670727</td><td>31</td><td>False</td><td>1.4042087</td><td>--</td><td>--</td><td>--</td><td>--</td><td>--</td><td>--</td><td>--</td><td>33</td><td>18</td><td>0.1216402</td><td>39</td><td>9</td><td>0</td><td>0.025981324</td><td>179.31969</td><td>0</td><td>0</td><td>1.2627888</td><td>0.28512484</td><td>0.22375433</td><td>0.062406495</td><td>0.6724221</td><td>-44.5782</td><td>-7.0611267</td><td>38.25876</td><td>13.895423</td><td>False</td><td>341</td><td>3265.1233116845438</td><td>3.5901382</td><td>909.4701</td><td>16.902618</td><td>36</td><td>1207.7865212401534</td><td>9.410918</td><td>128.33887</td><td>17.633566</td><td>36</td><td>3035.3990926122765</td><td>11.631622</td><td>260.96094</td><td>16.042356</td><td>0</td><td>1</td><td>0</td><td>3</td><td>0</td><td>1.2995484</td><td>1.5912094</td><td>0.7309475</td><td>0.8602619</td><td>--</td><td>--</td><td>0</td><td>--</td><td>--</td><td>--</td><td>15.421614912740637</td><td>-79.2450715371264</td><td>348.02287237668645</td><td>-27.57960971764259</td><td>0.03231796093186184</td></tr>\n",
       "<tr><td>1636042515805110273</td><td>Gaia EDR3 2320824752790954240</td><td>2320824752790954240</td><td>1694690807</td><td>2016.0</td><td>1.016492014012858</td><td>3.7953665</td><td>-29.867162134098745</td><td>9.88056</td><td>--</td><td>--</td><td>--</td><td>--</td><td>--</td><td>--</td><td>--</td><td>--</td><td>0.8254644</td><td>--</td><td>--</td><td>--</td><td>--</td><td>--</td><td>--</td><td>--</td><td>--</td><td>--</td><td>51</td><td>0</td><td>51</td><td>0</td><td>1.0772007</td><td>56.35825</td><td>2.634108</td><td>0.7648688</td><td>3</td><td>False</td><td>--</td><td>--</td><td>--</td><td>--</td><td>--</td><td>--</td><td>--</td><td>--</td><td>6</td><td>5</td><td>38.676838</td><td>9</td><td>1</td><td>5</td><td>0.42990163</td><td>19.232634</td><td>1</td><td>87</td><td>--</td><td>0.18111601</td><td>0.6941619</td><td>0.2609458</td><td>0.94337916</td><td>-129.05727</td><td>-72.84257</td><td>57.03461</td><td>13.155454</td><td>False</td><td>52</td><td>115.74891202549529</td><td>5.5351243</td><td>20.911709</td><td>20.528574</td><td>0</td><td>--</td><td>--</td><td>--</td><td>--</td><td>0</td><td>--</td><td>--</td><td>--</td><td>--</td><td>--</td><td>--</td><td>--</td><td>--</td><td>0</td><td>--</td><td>--</td><td>--</td><td>--</td><td>--</td><td>--</td><td>0</td><td>--</td><td>--</td><td>--</td><td>15.40630928855615</td><td>-79.24350841365562</td><td>348.0203436871828</td><td>-27.581971630886297</td><td>0.035573313064848906</td></tr>\n",
       "<tr><td>1636042515805110273</td><td>Gaia EDR3 2320824748495365888</td><td>2320824748495365888</td><td>1771218967</td><td>2016.0</td><td>1.0163072502405233</td><td>3.284888</td><td>-29.867148864424003</td><td>2.8156786</td><td>--</td><td>--</td><td>--</td><td>--</td><td>--</td><td>--</td><td>--</td><td>--</td><td>0.093126535</td><td>--</td><td>--</td><td>--</td><td>--</td><td>--</td><td>--</td><td>--</td><td>--</td><td>--</td><td>197</td><td>0</td><td>178</td><td>19</td><td>43.205387</td><td>2859.1597</td><td>21.686316</td><td>111.12859</td><td>3</td><td>False</td><td>--</td><td>--</td><td>--</td><td>--</td><td>--</td><td>--</td><td>--</td><td>--</td><td>22</td><td>15</td><td>6.198372</td><td>26</td><td>8</td><td>1</td><td>0.37519607</td><td>156.24559</td><td>16</td><td>8</td><td>--</td><td>0.35804325</td><td>0.3002997</td><td>0.12509388</td><td>0.63429767</td><td>-23.69526</td><td>-10.939913</td><td>10.318697</td><td>10.484007</td><td>False</td><td>192</td><td>129.52268086182875</td><td>2.415537</td><td>53.620655</td><td>20.406502</td><td>14</td><td>91.38620719614697</td><td>12.538469</td><td>7.288466</td><td>20.43634</td><td>21</td><td>239.66323443402587</td><td>11.668739</td><td>20.538914</td><td>18.798891</td><td>0</td><td>14</td><td>0</td><td>21</td><td>0</td><td>2.5559187</td><td>1.6374493</td><td>0.029838562</td><td>1.6076107</td><td>--</td><td>--</td><td>0</td><td>--</td><td>--</td><td>--</td><td>15.406555271997147</td><td>-79.24335433545299</td><td>348.020188856429</td><td>-27.581887877940332</td><td>0.035610571559484994</td></tr>\n",
       "<tr><td>...</td><td>...</td><td>...</td><td>...</td><td>...</td><td>...</td><td>...</td><td>...</td><td>...</td><td>...</td><td>...</td><td>...</td><td>...</td><td>...</td><td>...</td><td>...</td><td>...</td><td>...</td><td>...</td><td>...</td><td>...</td><td>...</td><td>...</td><td>...</td><td>...</td><td>...</td><td>...</td><td>...</td><td>...</td><td>...</td><td>...</td><td>...</td><td>...</td><td>...</td><td>...</td><td>...</td><td>...</td><td>...</td><td>...</td><td>...</td><td>...</td><td>...</td><td>...</td><td>...</td><td>...</td><td>...</td><td>...</td><td>...</td><td>...</td><td>...</td><td>...</td><td>...</td><td>...</td><td>...</td><td>...</td><td>...</td><td>...</td><td>...</td><td>...</td><td>...</td><td>...</td><td>...</td><td>...</td><td>...</td><td>...</td><td>...</td><td>...</td><td>...</td><td>...</td><td>...</td><td>...</td><td>...</td><td>...</td><td>...</td><td>...</td><td>...</td><td>...</td><td>...</td><td>...</td><td>...</td><td>...</td><td>...</td><td>...</td><td>...</td><td>...</td><td>...</td><td>...</td><td>...</td><td>...</td><td>...</td><td>...</td><td>...</td><td>...</td><td>...</td><td>...</td><td>...</td><td>...</td><td>...</td><td>...</td><td>...</td></tr>\n",
       "<tr><td>1636042515805110273</td><td>Gaia EDR3 2314768329212207744</td><td>2314768329212207744</td><td>55572349</td><td>2016.0</td><td>0.09337096625177059</td><td>0.21040887</td><td>-30.674326714545405</td><td>0.15164767</td><td>0.14222611396207194</td><td>0.23800753</td><td>0.5975698</td><td>0.58851016</td><td>-0.4380717213685516</td><td>0.24718952</td><td>-0.39298517189154175</td><td>0.18190655</td><td>-0.17622072</td><td>0.4240857</td><td>0.19436209</td><td>-0.13842705</td><td>-0.31527087</td><td>-0.028074104</td><td>0.35867676</td><td>0.10714902</td><td>-0.33218014</td><td>-0.07345876</td><td>307</td><td>0</td><td>303</td><td>4</td><td>-1.229265</td><td>281.71246</td><td>0.0</td><td>0.0</td><td>31</td><td>True</td><td>1.6140832</td><td>--</td><td>--</td><td>--</td><td>--</td><td>--</td><td>--</td><td>--</td><td>35</td><td>17</td><td>0.34921506</td><td>36</td><td>9</td><td>0</td><td>0.02756518</td><td>36.614037</td><td>0</td><td>0</td><td>0.9489729</td><td>0.2980631</td><td>0.3041606</td><td>0.14478268</td><td>0.7136447</td><td>-43.27371</td><td>4.1422663</td><td>34.724323</td><td>13.652122</td><td>False</td><td>311</td><td>502.3746853067727</td><td>1.7199417</td><td>292.0882</td><td>18.934797</td><td>33</td><td>282.7031356561637</td><td>9.096661</td><td>31.077682</td><td>19.210217</td><td>33</td><td>282.07617734202415</td><td>12.258442</td><td>23.010769</td><td>18.621979</td><td>0</td><td>1</td><td>0</td><td>1</td><td>0</td><td>1.1242193</td><td>0.58823776</td><td>0.27541924</td><td>0.31281853</td><td>--</td><td>--</td><td>0</td><td>--</td><td>--</td><td>--</td><td>12.30300998291444</td><td>-78.28320971082455</td><td>346.8055010124205</td><td>-27.944630944694516</td><td>1.1664766792520123</td></tr>\n",
       "<tr><td>1636042515805110273</td><td>Gaia EDR3 2332974768595100160</td><td>2332974768595100160</td><td>1488676254</td><td>2016.0</td><td>359.920809360821</td><td>0.2892106</td><td>-29.177384916771928</td><td>0.29266703</td><td>0.08622921375411827</td><td>0.37442195</td><td>0.23029956</td><td>0.7712273</td><td>-0.4985882596626242</td><td>0.43283114</td><td>-0.5883887385907576</td><td>0.3635607</td><td>0.06054452</td><td>0.22039121</td><td>-0.09990887</td><td>0.0058591147</td><td>-0.23666707</td><td>0.010682224</td><td>0.51705325</td><td>0.05537852</td><td>-0.35046777</td><td>-0.03302121</td><td>271</td><td>0</td><td>269</td><td>2</td><td>-1.2235712</td><td>250.02542</td><td>0.0</td><td>0.0</td><td>31</td><td>True</td><td>1.5813411</td><td>--</td><td>--</td><td>--</td><td>--</td><td>--</td><td>--</td><td>--</td><td>31</td><td>17</td><td>0.60048574</td><td>37</td><td>9</td><td>0</td><td>0.009855672</td><td>53.944756</td><td>0</td><td>0</td><td>0.94598657</td><td>0.27435014</td><td>0.31419244</td><td>0.1415839</td><td>0.72113746</td><td>-25.72808</td><td>0.13879286</td><td>18.28901</td><td>13.343539</td><td>False</td><td>309</td><td>252.96897837642297</td><td>1.0955361</td><td>230.90884</td><td>19.679699</td><td>29</td><td>131.98547952266992</td><td>9.282248</td><td>14.21913</td><td>20.037228</td><td>33</td><td>159.968777597444</td><td>5.885591</td><td>27.179731</td><td>19.237808</td><td>0</td><td>0</td><td>0</td><td>0</td><td>0</td><td>1.1541109</td><td>0.7994194</td><td>0.3575287</td><td>0.44189072</td><td>--</td><td>--</td><td>0</td><td>--</td><td>--</td><td>--</td><td>19.728766215805276</td><td>-78.41594385053295</td><td>347.4084249261895</td><td>-26.538972245967642</td><td>1.1665006469731591</td></tr>\n",
       "<tr><td>1636042515805110273</td><td>Gaia EDR3 2320741975885763968</td><td>2320741975885763968</td><td>95038089</td><td>2016.0</td><td>2.3411481893677384</td><td>4.987477</td><td>-29.583863862696546</td><td>2.8103344</td><td>--</td><td>--</td><td>--</td><td>--</td><td>--</td><td>--</td><td>--</td><td>--</td><td>-0.5046805</td><td>--</td><td>--</td><td>--</td><td>--</td><td>--</td><td>--</td><td>--</td><td>--</td><td>--</td><td>78</td><td>0</td><td>77</td><td>1</td><td>3.720959</td><td>125.5496</td><td>9.947612</td><td>1181.4078</td><td>3</td><td>False</td><td>--</td><td>--</td><td>--</td><td>--</td><td>--</td><td>--</td><td>--</td><td>--</td><td>9</td><td>8</td><td>8.966527</td><td>9</td><td>2</td><td>0</td><td>0.3299878</td><td>61.100113</td><td>1</td><td>0</td><td>--</td><td>0.36004314</td><td>0.47166297</td><td>0.45306665</td><td>0.76824117</td><td>-137.72392</td><td>14.0901985</td><td>53.586678</td><td>14.084605</td><td>False</td><td>77</td><td>77.4995512163779</td><td>1.692595</td><td>45.787415</td><td>20.964119</td><td>8</td><td>67.88704632368938</td><td>10.963983</td><td>6.1918235</td><td>20.759075</td><td>9</td><td>101.85299227209829</td><td>12.947673</td><td>7.8665094</td><td>19.72796</td><td>0</td><td>1</td><td>0</td><td>0</td><td>0</td><td>2.1902068</td><td>1.0311146</td><td>-0.2050438</td><td>1.2361584</td><td>--</td><td>--</td><td>0</td><td>--</td><td>--</td><td>--</td><td>15.611203253465503</td><td>-80.42766649884926</td><td>349.32505197797053</td><td>-27.845494514125782</td><td>1.1665077465976408</td></tr>\n",
       "<tr><td>1636042515805110273</td><td>Gaia EDR3 2314561178645030272</td><td>2314561178645030272</td><td>1276202535</td><td>2016.0</td><td>0.6849706512362175</td><td>0.3627059</td><td>-30.96143478433258</td><td>0.29504487</td><td>-0.5793816294770084</td><td>0.4685927</td><td>-1.2364291</td><td>12.220543</td><td>12.100434742264827</td><td>0.33399025</td><td>-1.709135694381097</td><td>0.3616251</td><td>-0.13039026</td><td>0.6028562</td><td>0.15530488</td><td>-0.24076845</td><td>-0.35136434</td><td>0.052852117</td><td>0.510293</td><td>-0.013541844</td><td>-0.44326264</td><td>0.15431045</td><td>247</td><td>0</td><td>243</td><td>4</td><td>0.45725656</td><td>259.02844</td><td>0.7256581</td><td>0.81619084</td><td>31</td><td>False</td><td>1.3425196</td><td>--</td><td>--</td><td>--</td><td>--</td><td>--</td><td>--</td><td>--</td><td>29</td><td>17</td><td>0.58352774</td><td>32</td><td>7</td><td>0</td><td>0.035817217</td><td>69.916275</td><td>0</td><td>0</td><td>1.0196214</td><td>0.41077164</td><td>0.2748979</td><td>0.1774034</td><td>0.67883193</td><td>-41.754192</td><td>-6.2790804</td><td>37.746696</td><td>12.492697</td><td>False</td><td>266</td><td>294.8575750097515</td><td>1.067705</td><td>276.16016</td><td>19.513336</td><td>27</td><td>95.48583554240095</td><td>11.2904005</td><td>8.457258</td><td>20.388695</td><td>27</td><td>294.1936964344162</td><td>8.158033</td><td>36.06184</td><td>18.576313</td><td>0</td><td>0</td><td>0</td><td>0</td><td>0</td><td>1.3215857</td><td>1.8123817</td><td>0.8753586</td><td>0.93702316</td><td>--</td><td>--</td><td>0</td><td>--</td><td>--</td><td>--</td><td>10.23237735363575</td><td>-78.69539985602366</td><td>347.1728896555584</td><td>-28.43012311992501</td><td>1.166513131550576</td></tr>\n",
       "<tr><td>1636042515805110273</td><td>Gaia EDR3 2320507023994791808</td><td>2320507023994791808</td><td>1565362896</td><td>2016.0</td><td>1.4293316630698973</td><td>1.6206158</td><td>-30.94762003598221</td><td>1.8294284</td><td>--</td><td>--</td><td>--</td><td>--</td><td>--</td><td>--</td><td>--</td><td>--</td><td>0.009727394</td><td>--</td><td>--</td><td>--</td><td>--</td><td>--</td><td>--</td><td>--</td><td>--</td><td>--</td><td>70</td><td>0</td><td>69</td><td>1</td><td>1.4062798</td><td>80.48584</td><td>1.6976322</td><td>0.5407131</td><td>3</td><td>False</td><td>--</td><td>--</td><td>--</td><td>--</td><td>--</td><td>--</td><td>--</td><td>--</td><td>8</td><td>7</td><td>8.660611</td><td>9</td><td>2</td><td>0</td><td>0.051266752</td><td>90.764496</td><td>0</td><td>0</td><td>--</td><td>0.26870784</td><td>0.10515761</td><td>0.10555083</td><td>0.7389267</td><td>-74.2747</td><td>-35.806343</td><td>45.599216</td><td>14.292475</td><td>False</td><td>68</td><td>87.48315764630414</td><td>1.6131234</td><td>54.232155</td><td>20.832556</td><td>6</td><td>46.399464590340536</td><td>16.326101</td><td>2.842042</td><td>21.17226</td><td>7</td><td>103.23962758221555</td><td>15.017911</td><td>6.8744335</td><td>19.71328</td><td>0</td><td>0</td><td>0</td><td>0</td><td>1</td><td>1.7104903</td><td>1.4589806</td><td>0.3397045</td><td>1.119276</td><td>--</td><td>--</td><td>0</td><td>--</td><td>--</td><td>--</td><td>9.299868494864405</td><td>-79.30863054541064</td><td>347.82805878644467</td><td>-28.706876017727268</td><td>1.1665251181936729</td></tr>\n",
       "<tr><td>1636042515805110273</td><td>Gaia EDR3 2321041150423574016</td><td>2321041150423574016</td><td>1016282549</td><td>2016.0</td><td>1.4671869350048448</td><td>0.013849399</td><td>-28.731033994742567</td><td>0.013040437</td><td>2.928450161837971</td><td>0.017529897</td><td>167.05461</td><td>27.762781</td><td>27.73464399133377</td><td>0.016707446</td><td>-1.2496110695013498</td><td>0.014991414</td><td>0.036952358</td><td>0.22606795</td><td>0.25941795</td><td>-0.06868758</td><td>-0.23980722</td><td>-0.00064155343</td><td>0.37269622</td><td>-0.03300329</td><td>-0.29583508</td><td>0.08300574</td><td>310</td><td>0</td><td>308</td><td>2</td><td>0.6692223</td><td>317.28098</td><td>0.0</td><td>0.0</td><td>31</td><td>True</td><td>1.445445</td><td>--</td><td>--</td><td>--</td><td>--</td><td>--</td><td>--</td><td>--</td><td>35</td><td>18</td><td>0.023782933</td><td>42</td><td>10</td><td>0</td><td>0.025465652</td><td>65.13107</td><td>0</td><td>0</td><td>1.0261983</td><td>0.28047463</td><td>0.16193007</td><td>0.11569356</td><td>0.7250374</td><td>-55.87312</td><td>-23.688515</td><td>48.815807</td><td>13.649924</td><td>False</td><td>357</td><td>44206.6755015789</td><td>22.632406</td><td>1953.2468</td><td>14.0736475</td><td>41</td><td>18359.58069569256</td><td>37.9959</td><td>483.199</td><td>14.678885</td><td>41</td><td>36568.86153465297</td><td>57.156433</td><td>639.8031</td><td>13.3401165</td><td>0</td><td>2</td><td>0</td><td>1</td><td>0</td><td>1.2425373</td><td>1.338769</td><td>0.60523796</td><td>0.733531</td><td>--</td><td>--</td><td>0</td><td>--</td><td>--</td><td>--</td><td>21.23872099106693</td><td>-79.81203026732386</td><td>348.9862924544613</td><td>-26.741333516147492</td><td>1.1666233992511315</td></tr>\n",
       "<tr><td>1636042515805110273</td><td>Gaia EDR3 2320525719987655296</td><td>2320525719987655296</td><td>687216588</td><td>2016.0</td><td>1.9075124145432072</td><td>0.29212946</td><td>-30.719706826903078</td><td>0.22684915</td><td>0.3157385839179959</td><td>0.31892607</td><td>0.9900056</td><td>6.8594055</td><td>-3.8567349348830677</td><td>0.4314392</td><td>-5.672480966442533</td><td>0.2769089</td><td>0.12590742</td><td>-0.36761874</td><td>-0.239637</td><td>0.2509076</td><td>-0.08304691</td><td>0.16296451</td><td>0.36941823</td><td>0.25282368</td><td>-0.37156337</td><td>0.029682042</td><td>188</td><td>0</td><td>187</td><td>1</td><td>-1.3895178</td><td>161.53891</td><td>0.0</td><td>0.0</td><td>95</td><td>False</td><td>--</td><td>1.4421656</td><td>0.06316896</td><td>0.09908277</td><td>-0.07719278</td><td>-0.106256254</td><td>-0.19171594</td><td>0.0076076286</td><td>22</td><td>15</td><td>0.6061184</td><td>33</td><td>7</td><td>0</td><td>0.023000292</td><td>47.85108</td><td>2</td><td>0</td><td>0.9260692</td><td>0.22739562</td><td>0.30438378</td><td>0.15753175</td><td>0.6272041</td><td>3.355796</td><td>-5.9682984</td><td>-8.818704</td><td>13.945651</td><td>False</td><td>274</td><td>391.61810452126065</td><td>1.2737862</td><td>307.44415</td><td>19.20521</td><td>33</td><td>188.929327952468</td><td>13.563026</td><td>13.929732</td><td>19.647793</td><td>32</td><td>420.6272470879111</td><td>15.479916</td><td>27.172451</td><td>18.188152</td><td>0</td><td>23</td><td>0</td><td>22</td><td>0</td><td>1.5565077</td><td>1.4596405</td><td>0.44258308</td><td>1.0170574</td><td>--</td><td>--</td><td>0</td><td>--</td><td>--</td><td>--</td><td>9.79732485932549</td><td>-79.76947476280412</td><td>348.36307966508946</td><td>-28.689840246013116</td><td>1.1666263534441135</td></tr>\n",
       "<tr><td>1636042515805110273</td><td>Gaia EDR3 2333060874099621504</td><td>2333060874099621504</td><td>412380044</td><td>2016.0</td><td>1.0168801418780276</td><td>0.045059852</td><td>-28.666752502838786</td><td>0.035795297</td><td>0.975557390701485</td><td>0.050827783</td><td>19.193388</td><td>17.761812</td><td>-7.27418925144431</td><td>0.05417652</td><td>-16.203954469184296</td><td>0.042519104</td><td>0.0086904</td><td>0.32642564</td><td>0.27832133</td><td>-0.027570205</td><td>-0.039568927</td><td>0.022404138</td><td>0.34221533</td><td>0.12848373</td><td>-0.15627521</td><td>0.02158656</td><td>274</td><td>0</td><td>274</td><td>0</td><td>1.2423521</td><td>311.22977</td><td>0.067561164</td><td>0.29763845</td><td>31</td><td>False</td><td>1.5028863</td><td>--</td><td>--</td><td>--</td><td>--</td><td>--</td><td>--</td><td>--</td><td>32</td><td>18</td><td>0.076716736</td><td>40</td><td>8</td><td>0</td><td>0.023493089</td><td>50.92062</td><td>0</td><td>0</td><td>1.0527761</td><td>0.33993685</td><td>0.21787322</td><td>0.13251942</td><td>0.727172</td><td>-28.00049</td><td>-2.7001646</td><td>27.670605</td><td>15.2535715</td><td>False</td><td>332</td><td>5410.168293569937</td><td>2.6764524</td><td>2021.3953</td><td>16.35434</td><td>37</td><td>2608.313957135313</td><td>10.45565</td><td>249.46454</td><td>16.797642</td><td>34</td><td>3995.61622744824</td><td>8.677721</td><td>460.44534</td><td>15.743937</td><td>0</td><td>3</td><td>0</td><td>2</td><td>0</td><td>1.2206515</td><td>1.0537052</td><td>0.44330215</td><td>0.61040306</td><td>--</td><td>--</td><td>0</td><td>--</td><td>--</td><td>--</td><td>21.820704949214456</td><td>-79.42582519852567</td><td>348.6225657613144</td><td>-26.508050120339245</td><td>1.1666276773623625</td></tr>\n",
       "<tr><td>1636042515805110273</td><td>Gaia EDR3 2320525719988455552</td><td>2320525719988455552</td><td>1392277474</td><td>2016.0</td><td>1.9072013455935386</td><td>0.8426889</td><td>-30.719954301067567</td><td>0.5303457</td><td>0.6960562128385382</td><td>0.85988086</td><td>0.80947983</td><td>13.981003</td><td>-7.7559714149153285</td><td>1.1429266</td><td>-11.632426488342114</td><td>0.6799346</td><td>-0.1386384</td><td>-0.678356</td><td>0.29498124</td><td>0.012366387</td><td>0.08366301</td><td>-0.075169496</td><td>0.25872347</td><td>-0.21044837</td><td>-0.08217268</td><td>-0.20141459</td><td>146</td><td>0</td><td>144</td><td>2</td><td>-2.389697</td><td>111.73337</td><td>0.0</td><td>8.5539295e-16</td><td>95</td><td>False</td><td>--</td><td>1.2243223</td><td>0.14778283</td><td>0.30938017</td><td>-0.25354597</td><td>-0.23865579</td><td>0.062972955</td><td>-0.017811991</td><td>17</td><td>12</td><td>1.6305331</td><td>27</td><td>7</td><td>1</td><td>0.085705295</td><td>59.394722</td><td>0</td><td>34</td><td>0.8573671</td><td>0.20754723</td><td>0.34378362</td><td>0.25562963</td><td>0.73566747</td><td>71.06358</td><td>7.652353</td><td>-4.3579316</td><td>13.0296545</td><td>False</td><td>167</td><td>156.92558139668384</td><td>1.1418959</td><td>137.42548</td><td>20.198132</td><td>0</td><td>--</td><td>--</td><td>--</td><td>--</td><td>0</td><td>--</td><td>--</td><td>--</td><td>--</td><td>--</td><td>--</td><td>--</td><td>--</td><td>2</td><td>--</td><td>--</td><td>--</td><td>--</td><td>--</td><td>--</td><td>0</td><td>--</td><td>--</td><td>--</td><td>9.796459230219092</td><td>-79.7691444323633</td><td>348.36268007379795</td><td>-28.689939654665384</td><td>1.1666391483522998</td></tr>\n",
       "<tr><td>1636042515805110273</td><td>Gaia EDR3 2320525818772421120</td><td>2320525818772421120</td><td>573600888</td><td>2016.0</td><td>1.916013285240449</td><td>0.41244975</td><td>-30.713401496839566</td><td>0.3248308</td><td>-0.0008740851185213006</td><td>0.46953383</td><td>-0.001861602</td><td>4.8285875</td><td>4.327655320306092</td><td>0.58971024</td><td>2.1416482962975634</td><td>0.40775177</td><td>0.101983935</td><td>-0.42722917</td><td>-0.2518637</td><td>0.32235077</td><td>-0.044161517</td><td>0.21066454</td><td>0.34219196</td><td>0.2509465</td><td>-0.443741</td><td>0.0035688654</td><td>191</td><td>0</td><td>190</td><td>1</td><td>-0.43388936</td><td>183.81859</td><td>0.0</td><td>0.0</td><td>95</td><td>False</td><td>--</td><td>1.3827195</td><td>0.09345369</td><td>0.04365307</td><td>-0.04575365</td><td>0.023406195</td><td>-0.14521773</td><td>-0.05234864</td><td>22</td><td>14</td><td>0.8329002</td><td>32</td><td>7</td><td>0</td><td>0.009611147</td><td>61.005215</td><td>0</td><td>0</td><td>0.9756701</td><td>0.31359887</td><td>0.2848721</td><td>0.20480013</td><td>0.6615776</td><td>6.1385317</td><td>-1.8184943</td><td>-3.6048703</td><td>15.5453205</td><td>False</td><td>277</td><td>248.80524650301695</td><td>0.91126484</td><td>273.03287</td><td>19.697718</td><td>27</td><td>84.66380724632549</td><td>6.9072266</td><td>12.257279</td><td>20.519299</td><td>28</td><td>221.35129900750795</td><td>10.291544</td><td>21.508076</td><td>18.885191</td><td>0</td><td>2</td><td>0</td><td>0</td><td>0</td><td>1.2299383</td><td>1.6341076</td><td>0.8215809</td><td>0.8125267</td><td>--</td><td>--</td><td>0</td><td>--</td><td>--</td><td>--</td><td>9.818544369212496</td><td>-79.77836161070336</td><td>348.37376335976563</td><td>-28.68753159249075</td><td>1.1666652478427668</td></tr>\n",
       "</table></div>"
      ],
      "text/plain": [
       "<Table length=13904>\n",
       "    solution_id              designation          ...         dist        \n",
       "                                                  ...                     \n",
       "       int64                    object            ...       float64       \n",
       "------------------- ----------------------------- ... --------------------\n",
       "1636042515805110273 Gaia EDR3 2320827909591325056 ...  0.01466101910210699\n",
       "1636042515805110273 Gaia EDR3 2320827879527299328 ... 0.019510459589990703\n",
       "1636042515805110273 Gaia EDR3 2320828016966776704 ... 0.025769962228810034\n",
       "1636042515805110273 Gaia EDR3 2320828154405729920 ... 0.028656515226648617\n",
       "1636042515805110273 Gaia EDR3 2320828154405156992 ... 0.030173706887443162\n",
       "1636042515805110273 Gaia EDR3 2320824787151370880 ...  0.03179349592962388\n",
       "1636042515805110273 Gaia EDR3 2320827707729132032 ...  0.03231796093186184\n",
       "1636042515805110273 Gaia EDR3 2320824752790954240 ... 0.035573313064848906\n",
       "1636042515805110273 Gaia EDR3 2320824748495365888 ... 0.035610571559484994\n",
       "                ...                           ... ...                  ...\n",
       "1636042515805110273 Gaia EDR3 2314768329212207744 ...   1.1664766792520123\n",
       "1636042515805110273 Gaia EDR3 2332974768595100160 ...   1.1665006469731591\n",
       "1636042515805110273 Gaia EDR3 2320741975885763968 ...   1.1665077465976408\n",
       "1636042515805110273 Gaia EDR3 2314561178645030272 ...    1.166513131550576\n",
       "1636042515805110273 Gaia EDR3 2320507023994791808 ...   1.1665251181936729\n",
       "1636042515805110273 Gaia EDR3 2321041150423574016 ...   1.1666233992511315\n",
       "1636042515805110273 Gaia EDR3 2320525719987655296 ...   1.1666263534441135\n",
       "1636042515805110273 Gaia EDR3 2333060874099621504 ...   1.1666276773623625\n",
       "1636042515805110273 Gaia EDR3 2320525719988455552 ...   1.1666391483522998\n",
       "1636042515805110273 Gaia EDR3 2320525818772421120 ...   1.1666652478427668"
      ]
     },
     "execution_count": 54,
     "metadata": {},
     "output_type": "execute_result"
    }
   ],
   "source": [
    "#Print the table\n",
    "gaia_edr3\n"
   ]
  },
  {
   "cell_type": "code",
   "execution_count": null,
   "id": "9ae9cf2a-e281-4491-a40d-0d2b514d35f7",
   "metadata": {},
   "outputs": [],
   "source": []
  },
  {
   "cell_type": "markdown",
   "id": "740b7659",
   "metadata": {},
   "source": [
    "Right so we have loads of error stuff here and there is going to be a lot of management of that.\n",
    "Can we trust the distance estimates on this.\n",
    "\n",
    "Either way we need to figure out the depth of this. How many we are going to accept."
   ]
  },
  {
   "cell_type": "markdown",
   "id": "b4bb8edd-ea23-4a95-9da2-e397c1496c37",
   "metadata": {},
   "source": [
    "Now we are going to do Bailer Jones data"
   ]
  },
  {
   "cell_type": "code",
   "execution_count": 55,
   "id": "03bf03d1-56f4-4179-80f6-9976c0e6f663",
   "metadata": {},
   "outputs": [],
   "source": [
    "Vizier.ROW_LIMIT = -1\n",
    "bailer = Vizier.query_region(coord,\n",
    "                                 radius=rad,\n",
    "                                 catalog='I/352/gedr3dis')"
   ]
  },
  {
   "cell_type": "code",
   "execution_count": 56,
   "id": "60061764-357b-4997-a04d-1f74d993562c",
   "metadata": {},
   "outputs": [
    {
     "data": {
      "text/html": [
       "<div><i>Table length=11269</i>\n",
       "<table id=\"table1368474335816\" class=\"table-striped table-bordered table-condensed\">\n",
       "<thead><tr><th>Source</th><th>RA_ICRS</th><th>DE_ICRS</th><th>rgeo</th><th>b_rgeo</th><th>B_rgeo</th><th>rpgeo</th><th>b_rpgeo</th><th>B_rpgeo</th><th>Flag</th></tr></thead>\n",
       "<thead><tr><th></th><th>deg</th><th>deg</th><th>pc</th><th>pc</th><th>pc</th><th>pc</th><th>pc</th><th>pc</th><th></th></tr></thead>\n",
       "<thead><tr><th>int64</th><th>float64</th><th>float64</th><th>float64</th><th>float64</th><th>float64</th><th>float64</th><th>float64</th><th>float64</th><th>int32</th></tr></thead>\n",
       "<tr><td>2314546502741963904</td><td>0.96583661444</td><td>-30.99691720017</td><td>1894.10693000</td><td>1039.53943000</td><td>2835.88501000</td><td>3324.18384000</td><td>2762.83496000</td><td>3996.71777000</td><td>10033</td></tr>\n",
       "<tr><td>2314546369597053696</td><td>0.99846703055</td><td>-30.98905473164</td><td>2219.46777000</td><td>1100.83350000</td><td>4682.46582000</td><td>857.79760700</td><td>715.87896700</td><td>1050.30249000</td><td>11033</td></tr>\n",
       "<tr><td>2314546575755789056</td><td>0.95254011615</td><td>-30.98595207167</td><td>1306.44214000</td><td>771.99603300</td><td>2271.42285000</td><td>9738.49805000</td><td>8234.71582000</td><td>12241.02050000</td><td>20033</td></tr>\n",
       "<tr><td>2314546708900403584</td><td>0.96710571964</td><td>-30.96621414806</td><td>1341.11975000</td><td>896.87835700</td><td>1917.54175000</td><td>1450.77966000</td><td>1067.83240000</td><td>1730.60181000</td><td>10033</td></tr>\n",
       "<tr><td>2314546708900404352</td><td>0.97448703956</td><td>-30.96359882823</td><td>943.89025900</td><td>529.88793900</td><td>1755.20789000</td><td>15650.70410000</td><td>13054.46680000</td><td>19768.20700000</td><td>20033</td></tr>\n",
       "<tr><td>2314546708900405888</td><td>0.96435353716</td><td>-30.95882424959</td><td>3412.70117000</td><td>2345.08203000</td><td>6707.69531000</td><td>6478.59277000</td><td>5281.82227000</td><td>8211.66797000</td><td>10033</td></tr>\n",
       "<tr><td>2314548843498958976</td><td>0.80183494480</td><td>-30.97489751775</td><td>732.54840100</td><td>692.12103300</td><td>781.52258300</td><td>726.00061000</td><td>678.48059100</td><td>766.12420700</td><td>10033</td></tr>\n",
       "<tr><td>2314548877858696960</td><td>0.78513614988</td><td>-30.97797343225</td><td>1382.96277000</td><td>1211.61682000</td><td>1550.66882000</td><td>1369.74341000</td><td>1241.45264000</td><td>1537.38184000</td><td>10033</td></tr>\n",
       "<tr><td>2314548907923662464</td><td>0.78958284717</td><td>-30.95541288806</td><td>3324.28247000</td><td>2169.72559000</td><td>7982.48535000</td><td>1760.41113000</td><td>1551.75671000</td><td>2009.46240000</td><td>11033</td></tr>\n",
       "<tr><td>...</td><td>...</td><td>...</td><td>...</td><td>...</td><td>...</td><td>...</td><td>...</td><td>...</td><td>...</td></tr>\n",
       "<tr><td>2333078775523229824</td><td>0.47816661317</td><td>-28.79920790474</td><td>1353.16589000</td><td>940.74908400</td><td>2008.23645000</td><td>10766.35250000</td><td>8779.85449000</td><td>13425.52930000</td><td>10033</td></tr>\n",
       "<tr><td>2333078775523230080</td><td>0.47396062963</td><td>-28.80731304258</td><td>1931.17212000</td><td>1685.49036000</td><td>2443.17334000</td><td>2943.35107000</td><td>2556.46924000</td><td>3475.95972000</td><td>10033</td></tr>\n",
       "<tr><td>2333078874306490112</td><td>0.48434256217</td><td>-28.78399793573</td><td>2419.81494000</td><td>1686.24768000</td><td>3401.19824000</td><td>3095.32178000</td><td>2640.20068000</td><td>3560.44800000</td><td>10033</td></tr>\n",
       "<tr><td>2333078878602444416</td><td>0.47732272250</td><td>-28.79076192289</td><td>570.27594000</td><td>566.41693100</td><td>575.16711400</td><td>569.22760000</td><td>562.72747800</td><td>574.96685800</td><td>10033</td></tr>\n",
       "<tr><td>2333079011745418368</td><td>0.39965983715</td><td>-28.83758818522</td><td>2057.61157000</td><td>1095.08667000</td><td>3348.97339000</td><td>6343.57031000</td><td>5490.75098000</td><td>7592.89355000</td><td>10033</td></tr>\n",
       "<tr><td>2333079011745422080</td><td>0.40254976582</td><td>-28.82964008520</td><td>1339.54858000</td><td>961.96557600</td><td>1680.02258000</td><td>1642.93835000</td><td>1295.82605000</td><td>1997.71521000</td><td>10033</td></tr>\n",
       "<tr><td>2333079217904226688</td><td>0.40702006395</td><td>-28.80364246542</td><td>1207.36926000</td><td>740.12976100</td><td>1876.97864000</td><td>1230.41724000</td><td>1015.63483000</td><td>1421.42822000</td><td>10033</td></tr>\n",
       "<tr><td>2333079256559566080</td><td>0.41476901973</td><td>-28.79778734582</td><td>209.59156800</td><td>208.81944300</td><td>210.29814100</td><td>209.46275300</td><td>208.75541700</td><td>210.30918900</td><td>10033</td></tr>\n",
       "<tr><td>2333079600156949888</td><td>0.45504692580</td><td>-28.78324861849</td><td>909.20983900</td><td>835.96936000</td><td>1011.69611000</td><td>930.44281000</td><td>863.09466600</td><td>1008.80609000</td><td>10033</td></tr>\n",
       "<tr><td>2333084612382802176</td><td>0.52607329049</td><td>-28.77294298456</td><td>1723.21045000</td><td>1189.69177000</td><td>2400.28589000</td><td>3553.17480000</td><td>3017.71948000</td><td>4269.35693000</td><td>10033</td></tr>\n",
       "</table></div>"
      ],
      "text/plain": [
       "<Table length=11269>\n",
       "       Source           RA_ICRS         DE_ICRS     ...    B_rpgeo      Flag\n",
       "                          deg             deg       ...       pc            \n",
       "       int64            float64         float64     ...    float64     int32\n",
       "------------------- --------------- --------------- ... -------------- -----\n",
       "2314546502741963904   0.96583661444 -30.99691720017 ...  3996.71777000 10033\n",
       "2314546369597053696   0.99846703055 -30.98905473164 ...  1050.30249000 11033\n",
       "2314546575755789056   0.95254011615 -30.98595207167 ... 12241.02050000 20033\n",
       "2314546708900403584   0.96710571964 -30.96621414806 ...  1730.60181000 10033\n",
       "2314546708900404352   0.97448703956 -30.96359882823 ... 19768.20700000 20033\n",
       "2314546708900405888   0.96435353716 -30.95882424959 ...  8211.66797000 10033\n",
       "2314548843498958976   0.80183494480 -30.97489751775 ...   766.12420700 10033\n",
       "2314548877858696960   0.78513614988 -30.97797343225 ...  1537.38184000 10033\n",
       "2314548907923662464   0.78958284717 -30.95541288806 ...  2009.46240000 11033\n",
       "                ...             ...             ... ...            ...   ...\n",
       "2333078775523229824   0.47816661317 -28.79920790474 ... 13425.52930000 10033\n",
       "2333078775523230080   0.47396062963 -28.80731304258 ...  3475.95972000 10033\n",
       "2333078874306490112   0.48434256217 -28.78399793573 ...  3560.44800000 10033\n",
       "2333078878602444416   0.47732272250 -28.79076192289 ...   574.96685800 10033\n",
       "2333079011745418368   0.39965983715 -28.83758818522 ...  7592.89355000 10033\n",
       "2333079011745422080   0.40254976582 -28.82964008520 ...  1997.71521000 10033\n",
       "2333079217904226688   0.40702006395 -28.80364246542 ...  1421.42822000 10033\n",
       "2333079256559566080   0.41476901973 -28.79778734582 ...   210.30918900 10033\n",
       "2333079600156949888   0.45504692580 -28.78324861849 ...  1008.80609000 10033\n",
       "2333084612382802176   0.52607329049 -28.77294298456 ...  4269.35693000 10033"
      ]
     },
     "execution_count": 56,
     "metadata": {},
     "output_type": "execute_result"
    }
   ],
   "source": [
    "bjones=bailer[0]\n",
    "bjones\n"
   ]
  },
  {
   "cell_type": "code",
   "execution_count": 64,
   "id": "6afb79fa-e1cc-4faf-962c-cd26263a46ff",
   "metadata": {},
   "outputs": [
    {
     "data": {
      "text/html": [
       "<div><i>Table length=13904</i>\n",
       "<table id=\"table1368581460104\" class=\"table-striped table-bordered table-condensed\">\n",
       "<thead><tr><th>solution_id</th><th>designation</th><th>source_id</th><th>random_index</th><th>ref_epoch</th><th>ra</th><th>ra_error</th><th>dec</th><th>dec_error</th><th>parallax</th><th>parallax_error</th><th>parallax_over_error</th><th>pm</th><th>pmra</th><th>pmra_error</th><th>pmdec</th><th>pmdec_error</th><th>ra_dec_corr</th><th>ra_parallax_corr</th><th>ra_pmra_corr</th><th>ra_pmdec_corr</th><th>dec_parallax_corr</th><th>dec_pmra_corr</th><th>dec_pmdec_corr</th><th>parallax_pmra_corr</th><th>parallax_pmdec_corr</th><th>pmra_pmdec_corr</th><th>astrometric_n_obs_al</th><th>astrometric_n_obs_ac</th><th>astrometric_n_good_obs_al</th><th>astrometric_n_bad_obs_al</th><th>astrometric_gof_al</th><th>astrometric_chi2_al</th><th>astrometric_excess_noise</th><th>astrometric_excess_noise_sig</th><th>astrometric_params_solved</th><th>astrometric_primary_flag</th><th>nu_eff_used_in_astrometry</th><th>pseudocolour</th><th>pseudocolour_error</th><th>ra_pseudocolour_corr</th><th>dec_pseudocolour_corr</th><th>parallax_pseudocolour_corr</th><th>pmra_pseudocolour_corr</th><th>pmdec_pseudocolour_corr</th><th>astrometric_matched_transits</th><th>visibility_periods_used</th><th>astrometric_sigma5d_max</th><th>matched_transits</th><th>new_matched_transits</th><th>matched_transits_removed</th><th>ipd_gof_harmonic_amplitude</th><th>ipd_gof_harmonic_phase</th><th>ipd_frac_multi_peak</th><th>ipd_frac_odd_win</th><th>ruwe</th><th>scan_direction_strength_k1</th><th>scan_direction_strength_k2</th><th>scan_direction_strength_k3</th><th>scan_direction_strength_k4</th><th>scan_direction_mean_k1</th><th>scan_direction_mean_k2</th><th>scan_direction_mean_k3</th><th>scan_direction_mean_k4</th><th>duplicated_source</th><th>phot_g_n_obs</th><th>phot_g_mean_flux</th><th>phot_g_mean_flux_error</th><th>phot_g_mean_flux_over_error</th><th>phot_g_mean_mag</th><th>phot_bp_n_obs</th><th>phot_bp_mean_flux</th><th>phot_bp_mean_flux_error</th><th>phot_bp_mean_flux_over_error</th><th>phot_bp_mean_mag</th><th>phot_rp_n_obs</th><th>phot_rp_mean_flux</th><th>phot_rp_mean_flux_error</th><th>phot_rp_mean_flux_over_error</th><th>phot_rp_mean_mag</th><th>phot_bp_n_contaminated_transits</th><th>phot_bp_n_blended_transits</th><th>phot_rp_n_contaminated_transits</th><th>phot_rp_n_blended_transits</th><th>phot_proc_mode</th><th>phot_bp_rp_excess_factor</th><th>bp_rp</th><th>bp_g</th><th>g_rp</th><th>dr2_radial_velocity</th><th>dr2_radial_velocity_error</th><th>dr2_rv_nb_transits</th><th>dr2_rv_template_teff</th><th>dr2_rv_template_logg</th><th>dr2_rv_template_fe_h</th><th>l</th><th>b</th><th>ecl_lon</th><th>ecl_lat</th><th>dist</th></tr></thead>\n",
       "<thead><tr><th></th><th></th><th></th><th></th><th>yr</th><th>deg</th><th>mas</th><th>deg</th><th>mas</th><th>mas</th><th>mas</th><th></th><th>mas / yr</th><th>mas / yr</th><th>mas / yr</th><th>mas / yr</th><th>mas / yr</th><th></th><th></th><th></th><th></th><th></th><th></th><th></th><th></th><th></th><th></th><th></th><th></th><th></th><th></th><th></th><th></th><th>mas</th><th></th><th></th><th></th><th>1 / um</th><th>1 / um</th><th>1 / um</th><th></th><th></th><th></th><th></th><th></th><th></th><th></th><th>mas</th><th></th><th></th><th></th><th></th><th>deg</th><th></th><th></th><th></th><th></th><th></th><th></th><th></th><th>deg</th><th>deg</th><th>deg</th><th>deg</th><th></th><th></th><th>electron / s</th><th>electron / s</th><th></th><th>mag</th><th></th><th>electron / s</th><th>electron / s</th><th></th><th>mag</th><th></th><th>electron / s</th><th>electron / s</th><th></th><th>mag</th><th></th><th></th><th></th><th></th><th></th><th></th><th>mag</th><th>mag</th><th>mag</th><th>km / s</th><th>km / s</th><th></th><th>K</th><th>log(cm.s**-2)</th><th>dex</th><th>deg</th><th>deg</th><th>deg</th><th>deg</th><th></th></tr></thead>\n",
       "<thead><tr><th>int64</th><th>object</th><th>int64</th><th>int64</th><th>float64</th><th>float64</th><th>float32</th><th>float64</th><th>float32</th><th>float64</th><th>float32</th><th>float32</th><th>float32</th><th>float64</th><th>float32</th><th>float64</th><th>float32</th><th>float32</th><th>float32</th><th>float32</th><th>float32</th><th>float32</th><th>float32</th><th>float32</th><th>float32</th><th>float32</th><th>float32</th><th>int16</th><th>int16</th><th>int16</th><th>int16</th><th>float32</th><th>float32</th><th>float32</th><th>float32</th><th>int16</th><th>bool</th><th>float32</th><th>float32</th><th>float32</th><th>float32</th><th>float32</th><th>float32</th><th>float32</th><th>float32</th><th>int16</th><th>int16</th><th>float32</th><th>int16</th><th>int16</th><th>int16</th><th>float32</th><th>float32</th><th>int16</th><th>int16</th><th>float32</th><th>float32</th><th>float32</th><th>float32</th><th>float32</th><th>float32</th><th>float32</th><th>float32</th><th>float32</th><th>bool</th><th>int16</th><th>float64</th><th>float32</th><th>float32</th><th>float32</th><th>int16</th><th>float64</th><th>float32</th><th>float32</th><th>float32</th><th>int16</th><th>float64</th><th>float32</th><th>float32</th><th>float32</th><th>int16</th><th>int16</th><th>int16</th><th>int16</th><th>int16</th><th>float32</th><th>float32</th><th>float32</th><th>float32</th><th>float32</th><th>float32</th><th>int16</th><th>float32</th><th>float32</th><th>float32</th><th>float64</th><th>float64</th><th>float64</th><th>float64</th><th>float64</th></tr></thead>\n",
       "<tr><td>1636042515805110273</td><td>Gaia EDR3 2314847670143738880</td><td>2314847670143738880</td><td>1765952471</td><td>2016.0</td><td>359.92735106190923</td><td>0.92434955</td><td>-30.129170960063206</td><td>0.93685526</td><td>-7.990065420719655</td><td>1.1462334</td><td>-6.970714</td><td>3.4486806</td><td>2.897914417651553</td><td>1.7988225</td><td>1.8696228507203516</td><td>1.2223145</td><td>-0.030519625</td><td>0.13975944</td><td>-0.079917744</td><td>0.114613175</td><td>-0.24187557</td><td>0.029593157</td><td>0.47218543</td><td>0.18287687</td><td>-0.29743302</td><td>-0.26825836</td><td>180</td><td>0</td><td>174</td><td>6</td><td>14.677872</td><td>707.60565</td><td>6.53134</td><td>26.479067</td><td>95</td><td>False</td><td>--</td><td>0.68954015</td><td>0.25094962</td><td>-0.04638765</td><td>0.09766823</td><td>0.10127902</td><td>-0.12311738</td><td>-0.028333638</td><td>22</td><td>15</td><td>2.5644977</td><td>26</td><td>7</td><td>3</td><td>0.508651</td><td>54.49154</td><td>10</td><td>3</td><td>1.8971575</td><td>0.1905884</td><td>0.21351354</td><td>0.11873213</td><td>0.7764126</td><td>-59.343395</td><td>7.7959867</td><td>38.340195</td><td>15.451039</td><td>False</td><td>205</td><td>201.3154275279898</td><td>3.0599751</td><td>65.78989</td><td>19.927673</td><td>21</td><td>178.69368461619524</td><td>12.265472</td><td>14.568838</td><td>19.70827</td><td>21</td><td>171.9794036730463</td><td>9.431011</td><td>18.235521</td><td>19.159204</td><td>0</td><td>21</td><td>0</td><td>21</td><td>0</td><td>1.7419087</td><td>0.54906464</td><td>-0.21940422</td><td>0.76846886</td><td>--</td><td>--</td><td>0</td><td>--</td><td>--</td><td>--</td><td>15.075720898203544</td><td>-78.2666795512862</td><td>346.93751473216093</td><td>-27.393242772893014</td><td>0.999178517709517</td></tr>\n",
       "<tr><td>1636042515805110273</td><td>Gaia EDR3 2320879968890542464</td><td>2320879968890542464</td><td>38848959</td><td>2016.0</td><td>0.8012788343889028</td><td>1.5727688</td><td>-29.720467133364284</td><td>1.7024788</td><td>-6.789103790303561</td><td>2.4702652</td><td>-2.74833</td><td>1.295445</td><td>1.1829408423777366</td><td>1.8274268</td><td>0.5280421909147364</td><td>2.19832</td><td>-0.38038695</td><td>0.5747591</td><td>0.5056804</td><td>-0.41987252</td><td>-0.7598966</td><td>0.14395012</td><td>0.84703827</td><td>-0.15186568</td><td>-0.7518504</td><td>0.088956244</td><td>140</td><td>0</td><td>139</td><td>1</td><td>0.1446819</td><td>140.42148</td><td>0.0</td><td>0.0</td><td>95</td><td>False</td><td>--</td><td>0.58518654</td><td>0.31026906</td><td>0.29091418</td><td>-0.469679</td><td>0.4776867</td><td>-0.019269804</td><td>-0.5188466</td><td>16</td><td>10</td><td>3.7620587</td><td>16</td><td>1</td><td>0</td><td>0.07072388</td><td>67.35164</td><td>0</td><td>0</td><td>1.0063715</td><td>0.24917082</td><td>0.25305393</td><td>0.28985515</td><td>0.71658695</td><td>-39.931126</td><td>0.42630303</td><td>42.353752</td><td>14.433353</td><td>False</td><td>139</td><td>97.53681465202547</td><td>1.1749433</td><td>83.01406</td><td>20.714445</td><td>11</td><td>41.525109118709885</td><td>6.23478</td><td>6.660237</td><td>21.292765</td><td>14</td><td>128.76221264257651</td><td>10.687393</td><td>12.048047</td><td>19.473425</td><td>0</td><td>0</td><td>0</td><td>0</td><td>0</td><td>1.7458774</td><td>1.8193398</td><td>0.57831955</td><td>1.2410202</td><td>--</td><td>--</td><td>0</td><td>--</td><td>--</td><td>--</td><td>16.366827719820858</td><td>-79.08920466553788</td><td>347.90629378341475</td><td>-27.36711774879836</td><td>0.22773594182959536</td></tr>\n",
       "<tr><td>1636042515805110273</td><td>Gaia EDR3 2332919037099585920</td><td>2332919037099585920</td><td>990887545</td><td>2016.0</td><td>0.17754195191486988</td><td>1.9992418</td><td>-29.381200643032088</td><td>1.5784036</td><td>-6.155533343708378</td><td>2.5001762</td><td>-2.4620397</td><td>3.0128782</td><td>3.0126879272153397</td><td>1.7524321</td><td>0.033862398457031345</td><td>1.5595783</td><td>0.2159194</td><td>0.7326038</td><td>-0.23155266</td><td>0.3394131</td><td>0.18284392</td><td>0.32552728</td><td>0.5802206</td><td>0.0848104</td><td>0.30748466</td><td>0.27123278</td><td>110</td><td>0</td><td>109</td><td>1</td><td>1.0143855</td><td>122.05278</td><td>3.0812564</td><td>1.1568196</td><td>95</td><td>False</td><td>--</td><td>2.1388113</td><td>0.43266696</td><td>-0.1222526</td><td>0.5058996</td><td>-0.080705</td><td>0.23301397</td><td>0.20558412</td><td>13</td><td>9</td><td>2.9015324</td><td>13</td><td>5</td><td>0</td><td>0.07021385</td><td>72.53145</td><td>0</td><td>0</td><td>1.0681918</td><td>0.5136327</td><td>0.27433303</td><td>0.23250876</td><td>0.58059525</td><td>-25.928732</td><td>-29.9268</td><td>30.357199</td><td>13.843526</td><td>False</td><td>108</td><td>90.58973814725825</td><td>1.7560227</td><td>51.588024</td><td>20.79467</td><td>9</td><td>49.733743010332574</td><td>9.706791</td><td>5.123603</td><td>21.096914</td><td>9</td><td>52.39442864447742</td><td>9.725957</td><td>5.3870716</td><td>20.449682</td><td>0</td><td>0</td><td>0</td><td>0</td><td>0</td><td>1.1273702</td><td>0.64723206</td><td>0.3022442</td><td>0.34498787</td><td>--</td><td>--</td><td>0</td><td>--</td><td>--</td><td>--</td><td>18.563655204399687</td><td>-78.61051641477859</td><td>347.5312931688355</td><td>-26.821167574031026</td><td>0.8675565698884413</td></tr>\n",
       "<tr><td>1636042515805110273</td><td>Gaia EDR3 2320848461011216768</td><td>2320848461011216768</td><td>479365332</td><td>2016.0</td><td>0.4845884888342042</td><td>1.4143701</td><td>-29.907507894033813</td><td>1.9671394</td><td>-5.893821338205522</td><td>2.3436303</td><td>-2.5148253</td><td>3.6761022</td><td>-1.5925464566521712</td><td>1.3435324</td><td>-3.313234459417452</td><td>1.9109908</td><td>-0.50777686</td><td>0.4909817</td><td>0.50991315</td><td>-0.26759323</td><td>-0.82125425</td><td>-0.16353233</td><td>0.34325746</td><td>0.05536074</td><td>-0.25837675</td><td>0.09824096</td><td>94</td><td>0</td><td>94</td><td>0</td><td>1.4642094</td><td>121.62809</td><td>1.6372197</td><td>0.4186566</td><td>31</td><td>False</td><td>1.5821103</td><td>--</td><td>--</td><td>--</td><td>--</td><td>--</td><td>--</td><td>--</td><td>11</td><td>10</td><td>3.0346296</td><td>12</td><td>3</td><td>0</td><td>0.039216477</td><td>65.05554</td><td>0</td><td>0</td><td>1.107853</td><td>0.36505345</td><td>0.043324977</td><td>0.21112111</td><td>0.82083744</td><td>-103.31908</td><td>42.691875</td><td>-59.423306</td><td>15.728301</td><td>False</td><td>91</td><td>95.30678414884102</td><td>1.1131009</td><td>85.62277</td><td>20.739557</td><td>8</td><td>75.0408359669425</td><td>12.258205</td><td>6.121682</td><td>20.650297</td><td>8</td><td>76.36450411966041</td><td>15.790814</td><td>4.836008</td><td>20.040667</td><td>0</td><td>1</td><td>0</td><td>1</td><td>0</td><td>1.5886103</td><td>0.6096306</td><td>-0.0892601</td><td>0.6988907</td><td>--</td><td>--</td><td>0</td><td>--</td><td>--</td><td>--</td><td>15.685022530865748</td><td>-78.78363935737892</td><td>347.5352505167067</td><td>-27.411251497048298</td><td>0.4780256051641912</td></tr>\n",
       "<tr><td>1636042515805110273</td><td>Gaia EDR3 2320954009831211904</td><td>2320954009831211904</td><td>1373213358</td><td>2016.0</td><td>1.8895378176145086</td><td>1.6043775</td><td>-29.22293559994702</td><td>0.97299516</td><td>-5.698027876326544</td><td>1.950103</td><td>-2.9219112</td><td>14.173563</td><td>13.761623696711741</td><td>2.2715442</td><td>-3.3922839828982907</td><td>1.2344652</td><td>-0.33959135</td><td>0.6494937</td><td>-0.13138835</td><td>-0.11730863</td><td>-0.24099989</td><td>0.23666075</td><td>-0.22652389</td><td>0.07260775</td><td>-0.4073553</td><td>-0.49018538</td><td>103</td><td>0</td><td>103</td><td>0</td><td>0.54019696</td><td>107.17647</td><td>1.8078216</td><td>0.5467957</td><td>95</td><td>False</td><td>--</td><td>1.8834151</td><td>0.3303613</td><td>-0.2712357</td><td>0.26827776</td><td>-0.35976368</td><td>-0.019288506</td><td>-0.10096101</td><td>12</td><td>9</td><td>3.296248</td><td>12</td><td>4</td><td>0</td><td>0.02807518</td><td>70.63859</td><td>0</td><td>0</td><td>1.0355549</td><td>0.28426751</td><td>0.28162855</td><td>0.58652586</td><td>0.75225544</td><td>-44.872284</td><td>10.743132</td><td>40.29459</td><td>15.038827</td><td>False</td><td>93</td><td>94.5364855540003</td><td>1.2147433</td><td>77.82425</td><td>20.748367</td><td>9</td><td>72.56661695551553</td><td>9.692253</td><td>7.487074</td><td>20.6867</td><td>11</td><td>78.94501158123529</td><td>12.537574</td><td>6.296674</td><td>20.004583</td><td>0</td><td>0</td><td>0</td><td>0</td><td>0</td><td>1.6026789</td><td>0.68211746</td><td>-0.06166649</td><td>0.74378395</td><td>--</td><td>--</td><td>0</td><td>--</td><td>--</td><td>--</td><td>18.150023735069265</td><td>-80.1098821157591</td><td>349.11094345445747</td><td>-27.346440387831457</td><td>0.9659184576784349</td></tr>\n",
       "<tr><td>1636042515805110273</td><td>Gaia EDR3 2320948134315924352</td><td>2320948134315924352</td><td>484350594</td><td>2016.0</td><td>2.035603409357957</td><td>1.0214908</td><td>-29.37545684271449</td><td>0.8120979</td><td>-5.4026749551603</td><td>1.2132823</td><td>-4.452941</td><td>11.106161</td><td>3.8954032932857707</td><td>1.1016164</td><td>-10.400608151212243</td><td>1.0443928</td><td>0.07473057</td><td>0.39857477</td><td>0.027357731</td><td>-0.034325678</td><td>-0.056277692</td><td>0.037583698</td><td>0.3531177</td><td>0.082701564</td><td>-0.088783786</td><td>0.24630755</td><td>230</td><td>0</td><td>226</td><td>4</td><td>24.75661</td><td>1351.7294</td><td>7.706995</td><td>47.79807</td><td>95</td><td>False</td><td>--</td><td>1.2798522</td><td>0.26677117</td><td>-0.18339533</td><td>0.011953707</td><td>-0.09764772</td><td>-0.1322144</td><td>-0.081142</td><td>26</td><td>14</td><td>1.6720753</td><td>33</td><td>9</td><td>0</td><td>0.2016991</td><td>134.88156</td><td>5</td><td>0</td><td>2.3864462</td><td>0.38928598</td><td>0.24676853</td><td>0.15617439</td><td>0.6371637</td><td>-51.12973</td><td>-10.787976</td><td>35.190235</td><td>11.090159</td><td>False</td><td>278</td><td>266.1623852932148</td><td>3.0547194</td><td>87.13153</td><td>19.6245</td><td>31</td><td>129.7016605303731</td><td>7.0635986</td><td>18.36198</td><td>20.05618</td><td>30</td><td>326.6887904142248</td><td>9.904497</td><td>32.983883</td><td>18.46256</td><td>0</td><td>1</td><td>0</td><td>1</td><td>0</td><td>1.7147068</td><td>1.5936184</td><td>0.43167877</td><td>1.1619396</td><td>--</td><td>--</td><td>0</td><td>--</td><td>--</td><td>--</td><td>17.140519334559595</td><td>-80.20847877965642</td><td>349.16228383027254</td><td>-27.53986343057509</td><td>0.9875979317860184</td></tr>\n",
       "<tr><td>1636042515805110273</td><td>Gaia EDR3 2332872479653341568</td><td>2332872479653341568</td><td>296390332</td><td>2016.0</td><td>359.9820041215984</td><td>2.4974864</td><td>-29.74028436442885</td><td>1.8109133</td><td>-5.390455136260397</td><td>3.7456496</td><td>-1.4391242</td><td>6.2794967</td><td>1.1147564219501422</td><td>1.9987478</td><td>-6.1797567888960865</td><td>1.939831</td><td>-0.58107483</td><td>0.6552482</td><td>0.53433204</td><td>-0.6019061</td><td>-0.7297048</td><td>-0.24036337</td><td>0.7888893</td><td>0.12607242</td><td>-0.78674954</td><td>-0.21579614</td><td>102</td><td>0</td><td>102</td><td>0</td><td>-0.93613535</td><td>106.28495</td><td>1.896506</td><td>0.351581</td><td>95</td><td>False</td><td>--</td><td>1.1997777</td><td>0.43674123</td><td>-0.16617398</td><td>0.14987218</td><td>-0.042116195</td><td>-0.18592171</td><td>0.024975922</td><td>12</td><td>9</td><td>4.4202237</td><td>12</td><td>2</td><td>1</td><td>0.04641885</td><td>109.00018</td><td>0</td><td>0</td><td>0.9298157</td><td>0.39978045</td><td>0.35316095</td><td>0.17790289</td><td>0.77806085</td><td>-54.090786</td><td>0.41483396</td><td>27.662056</td><td>7.642236</td><td>False</td><td>102</td><td>85.47559170299355</td><td>1.3154658</td><td>64.97743</td><td>20.857761</td><td>7</td><td>46.44730431602727</td><td>9.364505</td><td>4.959932</td><td>21.17114</td><td>11</td><td>97.62781615667771</td><td>10.681069</td><td>9.140266</td><td>19.773962</td><td>0</td><td>0</td><td>0</td><td>0</td><td>0</td><td>1.6855704</td><td>1.3971786</td><td>0.3133793</td><td>1.0837994</td><td>--</td><td>--</td><td>0</td><td>--</td><td>--</td><td>--</td><td>16.920381682301336</td><td>-78.38574887547644</td><td>347.1808062214636</td><td>-27.066627089343548</td><td>0.913561472569968</td></tr>\n",
       "<tr><td>1636042515805110273</td><td>Gaia EDR3 2320885908829752320</td><td>2320885908829752320</td><td>292365337</td><td>2016.0</td><td>0.4736201710141223</td><td>2.310542</td><td>-29.729825117743417</td><td>1.0513672</td><td>-5.334180012515806</td><td>1.842478</td><td>-2.8951118</td><td>2.0478005</td><td>-1.0652913503435688</td><td>2.3569372</td><td>-1.748897245750815</td><td>1.874274</td><td>-0.365315</td><td>0.57938325</td><td>0.6391768</td><td>0.055402867</td><td>-0.2772282</td><td>-0.19238465</td><td>0.3308282</td><td>0.043884657</td><td>0.3469661</td><td>-0.012799104</td><td>87</td><td>0</td><td>86</td><td>1</td><td>-1.4870342</td><td>64.48031</td><td>0.0</td><td>0.0</td><td>95</td><td>False</td><td>--</td><td>2.4574761</td><td>0.4574948</td><td>-0.39996552</td><td>0.34076393</td><td>-0.6056543</td><td>0.09483399</td><td>-0.038895853</td><td>10</td><td>9</td><td>3.6947162</td><td>10</td><td>1</td><td>0</td><td>0.029924056</td><td>171.64983</td><td>0</td><td>0</td><td>0.880777</td><td>0.34514612</td><td>0.3702749</td><td>0.31752408</td><td>0.7310162</td><td>-44.507107</td><td>1.1688055</td><td>44.024555</td><td>16.028393</td><td>False</td><td>84</td><td>92.62017081049422</td><td>1.248184</td><td>74.20394</td><td>20.770603</td><td>7</td><td>71.74330613463205</td><td>4.669124</td><td>15.365474</td><td>20.69909</td><td>6</td><td>77.79081977374162</td><td>15.114234</td><td>5.146858</td><td>20.020575</td><td>0</td><td>0</td><td>0</td><td>0</td><td>0</td><td>1.6144876</td><td>0.6785145</td><td>-0.07151413</td><td>0.7500286</td><td>--</td><td>--</td><td>0</td><td>--</td><td>--</td><td>--</td><td>16.592297697957818</td><td>-78.8078068601612</td><td>347.61522399936996</td><td>-27.248113261029516</td><td>0.49315933924723</td></tr>\n",
       "<tr><td>1636042515805110273</td><td>Gaia EDR3 2320619242900659200</td><td>2320619242900659200</td><td>1725899055</td><td>2016.0</td><td>1.4616159235216828</td><td>2.1139789</td><td>-30.06721789629178</td><td>1.7322074</td><td>-5.079555237353394</td><td>2.525488</td><td>-2.0113163</td><td>2.7294405</td><td>2.310382500154249</td><td>2.266171</td><td>1.453264554544576</td><td>1.4792215</td><td>-0.5138202</td><td>0.42537197</td><td>0.63787663</td><td>-0.3665771</td><td>-0.77603644</td><td>-0.13872625</td><td>0.46553966</td><td>-0.09710228</td><td>-0.40916756</td><td>-0.24639727</td><td>136</td><td>0</td><td>136</td><td>0</td><td>3.5310483</td><td>210.62988</td><td>4.5916348</td><td>3.6165254</td><td>95</td><td>False</td><td>--</td><td>1.2704084</td><td>0.38818562</td><td>-0.30983397</td><td>0.20603941</td><td>-0.3291416</td><td>0.10643168</td><td>-0.11218357</td><td>16</td><td>11</td><td>3.637636</td><td>16</td><td>2</td><td>0</td><td>0.112782195</td><td>56.56994</td><td>0</td><td>0</td><td>1.2240504</td><td>0.33562303</td><td>0.16039295</td><td>0.42508164</td><td>0.81330425</td><td>-108.97151</td><td>23.910522</td><td>52.085205</td><td>17.240553</td><td>False</td><td>135</td><td>87.19278907887553</td><td>1.2634927</td><td>69.00933</td><td>20.836166</td><td>13</td><td>67.9115692034155</td><td>9.198894</td><td>7.3825803</td><td>20.758682</td><td>13</td><td>123.69207391847453</td><td>8.481164</td><td>14.584328</td><td>19.51704</td><td>0</td><td>0</td><td>0</td><td>0</td><td>0</td><td>2.1974711</td><td>1.241642</td><td>-0.07748413</td><td>1.3191261</td><td>--</td><td>--</td><td>0</td><td>--</td><td>--</td><td>--</td><td>13.88254602924253</td><td>-79.5756502929212</td><td>348.30802732303096</td><td>-27.933983079711798</td><td>0.4417015645006376</td></tr>\n",
       "<tr><td>...</td><td>...</td><td>...</td><td>...</td><td>...</td><td>...</td><td>...</td><td>...</td><td>...</td><td>...</td><td>...</td><td>...</td><td>...</td><td>...</td><td>...</td><td>...</td><td>...</td><td>...</td><td>...</td><td>...</td><td>...</td><td>...</td><td>...</td><td>...</td><td>...</td><td>...</td><td>...</td><td>...</td><td>...</td><td>...</td><td>...</td><td>...</td><td>...</td><td>...</td><td>...</td><td>...</td><td>...</td><td>...</td><td>...</td><td>...</td><td>...</td><td>...</td><td>...</td><td>...</td><td>...</td><td>...</td><td>...</td><td>...</td><td>...</td><td>...</td><td>...</td><td>...</td><td>...</td><td>...</td><td>...</td><td>...</td><td>...</td><td>...</td><td>...</td><td>...</td><td>...</td><td>...</td><td>...</td><td>...</td><td>...</td><td>...</td><td>...</td><td>...</td><td>...</td><td>...</td><td>...</td><td>...</td><td>...</td><td>...</td><td>...</td><td>...</td><td>...</td><td>...</td><td>...</td><td>...</td><td>...</td><td>...</td><td>...</td><td>...</td><td>...</td><td>...</td><td>...</td><td>...</td><td>...</td><td>...</td><td>...</td><td>...</td><td>...</td><td>...</td><td>...</td><td>...</td><td>...</td><td>...</td><td>...</td><td>...</td></tr>\n",
       "<tr><td>1636042515805110273</td><td>Gaia EDR3 2320973015061833856</td><td>2320973015061833856</td><td>1768707815</td><td>2016.0</td><td>1.131645568678623</td><td>1.3764344</td><td>-29.569900135765867</td><td>3.7092838</td><td>--</td><td>--</td><td>--</td><td>--</td><td>--</td><td>--</td><td>--</td><td>--</td><td>0.6773862</td><td>--</td><td>--</td><td>--</td><td>--</td><td>--</td><td>--</td><td>--</td><td>--</td><td>--</td><td>138</td><td>0</td><td>137</td><td>1</td><td>2.954573</td><td>185.22412</td><td>3.0601797</td><td>1.2422553</td><td>3</td><td>False</td><td>--</td><td>--</td><td>--</td><td>--</td><td>--</td><td>--</td><td>--</td><td>--</td><td>16</td><td>10</td><td>7.2449317</td><td>16</td><td>2</td><td>0</td><td>0.1299345</td><td>54.96082</td><td>0</td><td>0</td><td>--</td><td>0.4056768</td><td>0.19823518</td><td>0.3145646</td><td>0.6947004</td><td>-7.9793525</td><td>-0.03598702</td><td>18.243614</td><td>13.190282</td><td>False</td><td>136</td><td>83.67481806949755</td><td>0.97276264</td><td>86.017715</td><td>20.88088</td><td>7</td><td>54.25822662677255</td><td>20.139866</td><td>2.6940708</td><td>21.002378</td><td>13</td><td>123.04087694832562</td><td>10.388695</td><td>11.843728</td><td>19.522772</td><td>0</td><td>2</td><td>0</td><td>0</td><td>0</td><td>2.1189063</td><td>1.4796066</td><td>0.12149811</td><td>1.3581085</td><td>--</td><td>--</td><td>0</td><td>--</td><td>--</td><td>--</td><td>16.875704238574425</td><td>-79.39919347065154</td><td>348.2712858198092</td><td>-27.361075573052855</td><td>0.278062795020049</td></tr>\n",
       "<tr><td>1636042515805110273</td><td>Gaia EDR3 2314562381235489152</td><td>2314562381235489152</td><td>1441966431</td><td>2016.0</td><td>0.8115690343615605</td><td>5.6307826</td><td>-30.89200693116533</td><td>3.7101812</td><td>--</td><td>--</td><td>--</td><td>--</td><td>--</td><td>--</td><td>--</td><td>--</td><td>0.69580567</td><td>--</td><td>--</td><td>--</td><td>--</td><td>--</td><td>--</td><td>--</td><td>--</td><td>--</td><td>58</td><td>0</td><td>56</td><td>2</td><td>2.6942406</td><td>82.41521</td><td>5.9667664</td><td>25.503342</td><td>3</td><td>False</td><td>--</td><td>--</td><td>--</td><td>--</td><td>--</td><td>--</td><td>--</td><td>--</td><td>7</td><td>6</td><td>14.797663</td><td>7</td><td>2</td><td>1</td><td>0.064954266</td><td>31.550262</td><td>0</td><td>0</td><td>--</td><td>0.742748</td><td>0.1439521</td><td>0.53325063</td><td>0.83462214</td><td>-36.8971</td><td>-51.84587</td><td>30.283707</td><td>12.668756</td><td>False</td><td>56</td><td>75.11879786232905</td><td>1.5489587</td><td>48.496323</td><td>20.997995</td><td>4</td><td>22.674118128861508</td><td>8.88936</td><td>2.550703</td><td>21.949717</td><td>7</td><td>83.8000382194914</td><td>12.977674</td><td>6.457247</td><td>19.939785</td><td>0</td><td>4</td><td>0</td><td>7</td><td>0</td><td>1.4174103</td><td>2.0099316</td><td>0.9517212</td><td>1.0582104</td><td>--</td><td>--</td><td>0</td><td>--</td><td>--</td><td>--</td><td>10.413260348967484</td><td>-78.81937728410652</td><td>347.31872790073254</td><td>-28.417316854996386</td><td>1.0751953121602031</td></tr>\n",
       "<tr><td>1636042515805110273</td><td>Gaia EDR3 2333018710405507328</td><td>2333018710405507328</td><td>876067340</td><td>2016.0</td><td>0.8227299165952018</td><td>15.040119</td><td>-29.012919660565977</td><td>4.410459</td><td>--</td><td>--</td><td>--</td><td>--</td><td>--</td><td>--</td><td>--</td><td>--</td><td>-0.72041416</td><td>--</td><td>--</td><td>--</td><td>--</td><td>--</td><td>--</td><td>--</td><td>--</td><td>--</td><td>77</td><td>0</td><td>77</td><td>0</td><td>12.600878</td><td>351.84317</td><td>18.121567</td><td>19.031736</td><td>3</td><td>False</td><td>--</td><td>--</td><td>--</td><td>--</td><td>--</td><td>--</td><td>--</td><td>--</td><td>9</td><td>8</td><td>34.07663</td><td>10</td><td>2</td><td>0</td><td>0.3491556</td><td>28.06572</td><td>0</td><td>0</td><td>--</td><td>0.34347123</td><td>0.92339027</td><td>0.2888303</td><td>0.7128643</td><td>-168.57605</td><td>10.46093</td><td>-48.885796</td><td>10.494834</td><td>False</td><td>76</td><td>67.01833731742649</td><td>1.2524295</td><td>53.510666</td><td>21.121883</td><td>8</td><td>79.6421129164851</td><td>14.624437</td><td>5.445824</td><td>20.585686</td><td>8</td><td>190.23532218280624</td><td>13.798197</td><td>13.78697</td><td>19.049667</td><td>0</td><td>0</td><td>0</td><td>0</td><td>0</td><td>4.0269194</td><td>1.5360184</td><td>-0.53619766</td><td>2.072216</td><td>--</td><td>--</td><td>0</td><td>--</td><td>--</td><td>--</td><td>20.065736827004905</td><td>-79.21837592542522</td><td>348.2799065988135</td><td>-26.74240483261338</td><td>0.8398845261343476</td></tr>\n",
       "<tr><td>1636042515805110273</td><td>Gaia EDR3 2320571418439833088</td><td>2320571418439833088</td><td>1211675180</td><td>2016.0</td><td>0.93480552012553</td><td>5.091866</td><td>-30.669215010082052</td><td>5.5547223</td><td>--</td><td>--</td><td>--</td><td>--</td><td>--</td><td>--</td><td>--</td><td>--</td><td>-0.07205709</td><td>--</td><td>--</td><td>--</td><td>--</td><td>--</td><td>--</td><td>--</td><td>--</td><td>--</td><td>133</td><td>0</td><td>132</td><td>1</td><td>14.906898</td><td>541.7574</td><td>21.397373</td><td>20.262583</td><td>3</td><td>False</td><td>--</td><td>--</td><td>--</td><td>--</td><td>--</td><td>--</td><td>--</td><td>--</td><td>16</td><td>11</td><td>14.1106825</td><td>19</td><td>16</td><td>1</td><td>0.17986698</td><td>101.53206</td><td>0</td><td>0</td><td>--</td><td>0.23602447</td><td>0.27164465</td><td>0.035101313</td><td>0.6209498</td><td>-36.207092</td><td>-15.803405</td><td>-16.0634</td><td>10.838039</td><td>True</td><td>151</td><td>62.86283772238699</td><td>1.4325312</td><td>43.88235</td><td>21.191381</td><td>17</td><td>97.03475850862661</td><td>8.952084</td><td>10.839349</td><td>20.371223</td><td>18</td><td>253.83384034504968</td><td>12.644267</td><td>20.075014</td><td>18.73652</td><td>0</td><td>17</td><td>0</td><td>18</td><td>0</td><td>5.581495</td><td>1.6347027</td><td>-0.820158</td><td>2.4548607</td><td>--</td><td>--</td><td>0</td><td>--</td><td>--</td><td>--</td><td>11.370967695644387</td><td>-78.98326985767912</td><td>347.5404322579465</td><td>-28.266416714592772</td><td>0.8398491298448901</td></tr>\n",
       "<tr><td>1636042515805110273</td><td>Gaia EDR3 2314774101648296832</td><td>2314774101648296832</td><td>156225132</td><td>2016.0</td><td>0.4679944092588764</td><td>5.8138356</td><td>-30.51853542120104</td><td>3.1754844</td><td>--</td><td>--</td><td>--</td><td>--</td><td>--</td><td>--</td><td>--</td><td>--</td><td>-0.011986317</td><td>--</td><td>--</td><td>--</td><td>--</td><td>--</td><td>--</td><td>--</td><td>--</td><td>--</td><td>59</td><td>0</td><td>59</td><td>0</td><td>3.7063704</td><td>101.38369</td><td>10.045228</td><td>3.8552377</td><td>3</td><td>False</td><td>--</td><td>--</td><td>--</td><td>--</td><td>--</td><td>--</td><td>--</td><td>--</td><td>7</td><td>6</td><td>25.788845</td><td>9</td><td>0</td><td>1</td><td>0.15570788</td><td>120.90934</td><td>1</td><td>0</td><td>--</td><td>0.36767015</td><td>0.66422886</td><td>0.103429206</td><td>0.6537249</td><td>-22.134174</td><td>5.4713492</td><td>2.266594</td><td>12.458364</td><td>False</td><td>69</td><td>61.527974271497456</td><td>1.5986928</td><td>38.486427</td><td>21.214685</td><td>8</td><td>84.99549203633408</td><td>15.381351</td><td>5.5258794</td><td>20.515053</td><td>6</td><td>234.28567712204168</td><td>29.3207</td><td>7.9904532</td><td>18.823532</td><td>0</td><td>0</td><td>0</td><td>0</td><td>0</td><td>5.1892033</td><td>1.6915207</td><td>-0.69963264</td><td>2.3911533</td><td>--</td><td>--</td><td>0</td><td>--</td><td>--</td><td>--</td><td>12.65767578447969</td><td>-78.6342381563959</td><td>347.2108498011092</td><td>-27.95072905150496</td><td>0.8395526051539856</td></tr>\n",
       "<tr><td>1636042515805110273</td><td>Gaia EDR3 2333018817779812992</td><td>2333018817779812992</td><td>358603070</td><td>2016.0</td><td>0.7655599638650527</td><td>2.8328369</td><td>-29.026552735503888</td><td>2.5937233</td><td>--</td><td>--</td><td>--</td><td>--</td><td>--</td><td>--</td><td>--</td><td>--</td><td>0.11689218</td><td>--</td><td>--</td><td>--</td><td>--</td><td>--</td><td>--</td><td>--</td><td>--</td><td>--</td><td>164</td><td>0</td><td>162</td><td>2</td><td>14.803094</td><td>590.9046</td><td>15.052714</td><td>23.048023</td><td>3</td><td>False</td><td>--</td><td>--</td><td>--</td><td>--</td><td>--</td><td>--</td><td>--</td><td>--</td><td>19</td><td>11</td><td>5.905229</td><td>24</td><td>7</td><td>0</td><td>0.27445015</td><td>147.85347</td><td>0</td><td>4</td><td>--</td><td>0.28701177</td><td>0.31487522</td><td>0.24359524</td><td>0.6219749</td><td>-42.626133</td><td>-9.833793</td><td>46.824062</td><td>13.125439</td><td>True</td><td>197</td><td>90.31466844488395</td><td>1.659927</td><td>54.408817</td><td>20.797972</td><td>19</td><td>107.40472106485058</td><td>11.848268</td><td>9.065015</td><td>20.260984</td><td>20</td><td>282.9636131824859</td><td>10.565357</td><td>26.78221</td><td>18.618568</td><td>0</td><td>19</td><td>0</td><td>20</td><td>0</td><td>4.322314</td><td>1.642416</td><td>-0.5369873</td><td>2.1794033</td><td>--</td><td>--</td><td>0</td><td>--</td><td>--</td><td>--</td><td>20.02697259359404</td><td>-79.16707026096054</td><td>348.2229883427645</td><td>-26.73234676374219</td><td>0.8388099845511336</td></tr>\n",
       "<tr><td>1636042515805110273</td><td>Gaia EDR3 2314775171096073728</td><td>2314775171096073728</td><td>1718821855</td><td>2016.0</td><td>0.41671588482373384</td><td>2.93472</td><td>-30.483735976909188</td><td>1.5331057</td><td>--</td><td>--</td><td>--</td><td>--</td><td>--</td><td>--</td><td>--</td><td>--</td><td>-0.49022254</td><td>--</td><td>--</td><td>--</td><td>--</td><td>--</td><td>--</td><td>--</td><td>--</td><td>--</td><td>207</td><td>0</td><td>204</td><td>3</td><td>15.345536</td><td>687.4432</td><td>12.478859</td><td>25.003351</td><td>3</td><td>False</td><td>--</td><td>--</td><td>--</td><td>--</td><td>--</td><td>--</td><td>--</td><td>--</td><td>25</td><td>14</td><td>8.212459</td><td>30</td><td>30</td><td>0</td><td>0.07623487</td><td>38.765415</td><td>0</td><td>0</td><td>--</td><td>0.20222579</td><td>0.4699648</td><td>0.10638787</td><td>0.70766777</td><td>-5.5074396</td><td>8.794816</td><td>18.601213</td><td>14.539649</td><td>False</td><td>246</td><td>109.1847400811912</td><td>1.0815394</td><td>100.95309</td><td>20.591963</td><td>26</td><td>207.6291006288868</td><td>9.979978</td><td>20.804565</td><td>19.545322</td><td>27</td><td>486.983383105025</td><td>11.117006</td><td>43.805264</td><td>18.02911</td><td>0</td><td>0</td><td>0</td><td>0</td><td>0</td><td>6.3618093</td><td>1.5162125</td><td>-1.0466404</td><td>2.5628529</td><td>--</td><td>--</td><td>0</td><td>--</td><td>--</td><td>--</td><td>12.88338992323051</td><td>-78.59990783327939</td><td>347.183929167352</td><td>-27.899765076374777</td><td>0.8387160679284028</td></tr>\n",
       "<tr><td>1636042515805110273</td><td>Gaia EDR3 2332946971566251520</td><td>2332946971566251520</td><td>757182652</td><td>2016.0</td><td>359.96265457592676</td><td>1.7749026</td><td>-29.288892045010467</td><td>3.4880674</td><td>--</td><td>--</td><td>--</td><td>--</td><td>--</td><td>--</td><td>--</td><td>--</td><td>0.564432</td><td>--</td><td>--</td><td>--</td><td>--</td><td>--</td><td>--</td><td>--</td><td>--</td><td>--</td><td>81</td><td>0</td><td>81</td><td>0</td><td>2.4466503</td><td>109.47852</td><td>4.5285563</td><td>1.9733373</td><td>3</td><td>False</td><td>--</td><td>--</td><td>--</td><td>--</td><td>--</td><td>--</td><td>--</td><td>--</td><td>10</td><td>9</td><td>6.802854</td><td>10</td><td>2</td><td>1</td><td>0.07088868</td><td>157.79126</td><td>0</td><td>0</td><td>--</td><td>0.51732033</td><td>0.26310498</td><td>0.093243554</td><td>0.6374292</td><td>-37.71572</td><td>-38.8976</td><td>-8.654825</td><td>12.77508</td><td>False</td><td>78</td><td>78.72253541149053</td><td>1.1623008</td><td>67.72991</td><td>20.947119</td><td>2</td><td>25.54465210553442</td><td>16.108114</td><td>1.5858251</td><td>21.820292</td><td>8</td><td>99.89505611277362</td><td>9.922898</td><td>10.067125</td><td>19.749035</td><td>0</td><td>0</td><td>0</td><td>0</td><td>1</td><td>1.5934409</td><td>2.0712566</td><td>0.87317276</td><td>1.1980839</td><td>--</td><td>--</td><td>0</td><td>--</td><td>--</td><td>--</td><td>19.15419148241476</td><td>-78.4378569022269</td><td>347.3895242885982</td><td>-26.655082602196916</td><td>1.0756384023855436</td></tr>\n",
       "<tr><td>1636042515805110273</td><td>Gaia EDR3 2320703806512177024</td><td>2320703806512177024</td><td>1328681937</td><td>2016.0</td><td>1.9849303618139218</td><td>4.6395893</td><td>-29.9591588246189</td><td>2.582042</td><td>--</td><td>--</td><td>--</td><td>--</td><td>--</td><td>--</td><td>--</td><td>--</td><td>-0.69027245</td><td>--</td><td>--</td><td>--</td><td>--</td><td>--</td><td>--</td><td>--</td><td>--</td><td>--</td><td>109</td><td>0</td><td>109</td><td>0</td><td>2.9738326</td><td>152.19423</td><td>5.7956076</td><td>2.58894</td><td>3</td><td>False</td><td>--</td><td>--</td><td>--</td><td>--</td><td>--</td><td>--</td><td>--</td><td>--</td><td>13</td><td>9</td><td>8.537574</td><td>13</td><td>2</td><td>0</td><td>0.04111702</td><td>93.24817</td><td>0</td><td>0</td><td>--</td><td>0.3232446</td><td>0.411178</td><td>0.22719777</td><td>0.6439577</td><td>-111.65662</td><td>13.089712</td><td>55.452396</td><td>15.320556</td><td>False</td><td>104</td><td>96.12254845981676</td><td>1.4377754</td><td>66.85505</td><td>20.730303</td><td>10</td><td>61.96644527979657</td><td>13.556599</td><td>4.5709434</td><td>20.85815</td><td>10</td><td>85.394773635066</td><td>9.074149</td><td>9.410775</td><td>19.919317</td><td>0</td><td>0</td><td>0</td><td>0</td><td>0</td><td>1.5330557</td><td>0.93883324</td><td>0.12784767</td><td>0.81098557</td><td>--</td><td>--</td><td>0</td><td>--</td><td>--</td><td>--</td><td>13.868610802635033</td><td>-80.04149265896504</td><td>348.82132441796534</td><td>-28.041526564240147</td><td>0.8380739060629262</td></tr>\n",
       "<tr><td>1636042515805110273</td><td>Gaia EDR3 2320963634853218688</td><td>2320963634853218688</td><td>694595716</td><td>2016.0</td><td>1.7798451578692684</td><td>6.8198385</td><td>-29.27365185430284</td><td>1.6567631</td><td>--</td><td>--</td><td>--</td><td>--</td><td>--</td><td>--</td><td>--</td><td>--</td><td>-0.79259515</td><td>--</td><td>--</td><td>--</td><td>--</td><td>--</td><td>--</td><td>--</td><td>--</td><td>--</td><td>77</td><td>0</td><td>77</td><td>0</td><td>2.1196027</td><td>99.71732</td><td>2.4448686</td><td>0.7541377</td><td>3</td><td>False</td><td>--</td><td>--</td><td>--</td><td>--</td><td>--</td><td>--</td><td>--</td><td>--</td><td>9</td><td>8</td><td>11.894276</td><td>9</td><td>2</td><td>1</td><td>0.048738573</td><td>179.5072</td><td>0</td><td>0</td><td>--</td><td>0.3423483</td><td>0.5140446</td><td>0.23531353</td><td>0.80353117</td><td>20.526709</td><td>10.4450865</td><td>19.8666</td><td>13.991496</td><td>False</td><td>77</td><td>83.22954619090912</td><td>1.2666279</td><td>65.70955</td><td>20.886673</td><td>6</td><td>148.29250016873178</td><td>69.50356</td><td>2.1335957</td><td>19.910744</td><td>8</td><td>95.06951822322401</td><td>17.755161</td><td>5.354472</td><td>19.802792</td><td>0</td><td>0</td><td>0</td><td>0</td><td>1</td><td>2.923986</td><td>0.10795212</td><td>-0.97592926</td><td>1.0838814</td><td>--</td><td>--</td><td>0</td><td>--</td><td>--</td><td>--</td><td>17.953439129843698</td><td>-80.00702137490988</td><td>348.98903211981326</td><td>-27.348953820565182</td><td>0.8600310760093016</td></tr>\n",
       "</table></div>"
      ],
      "text/plain": [
       "<Table length=13904>\n",
       "    solution_id              designation          ...         dist       \n",
       "                                                  ...                    \n",
       "       int64                    object            ...       float64      \n",
       "------------------- ----------------------------- ... -------------------\n",
       "1636042515805110273 Gaia EDR3 2314847670143738880 ...   0.999178517709517\n",
       "1636042515805110273 Gaia EDR3 2320879968890542464 ... 0.22773594182959536\n",
       "1636042515805110273 Gaia EDR3 2332919037099585920 ...  0.8675565698884413\n",
       "1636042515805110273 Gaia EDR3 2320848461011216768 ...  0.4780256051641912\n",
       "1636042515805110273 Gaia EDR3 2320954009831211904 ...  0.9659184576784349\n",
       "1636042515805110273 Gaia EDR3 2320948134315924352 ...  0.9875979317860184\n",
       "1636042515805110273 Gaia EDR3 2332872479653341568 ...   0.913561472569968\n",
       "1636042515805110273 Gaia EDR3 2320885908829752320 ...    0.49315933924723\n",
       "1636042515805110273 Gaia EDR3 2320619242900659200 ...  0.4417015645006376\n",
       "                ...                           ... ...                 ...\n",
       "1636042515805110273 Gaia EDR3 2320973015061833856 ...   0.278062795020049\n",
       "1636042515805110273 Gaia EDR3 2314562381235489152 ...  1.0751953121602031\n",
       "1636042515805110273 Gaia EDR3 2333018710405507328 ...  0.8398845261343476\n",
       "1636042515805110273 Gaia EDR3 2320571418439833088 ...  0.8398491298448901\n",
       "1636042515805110273 Gaia EDR3 2314774101648296832 ...  0.8395526051539856\n",
       "1636042515805110273 Gaia EDR3 2333018817779812992 ...  0.8388099845511336\n",
       "1636042515805110273 Gaia EDR3 2314775171096073728 ...  0.8387160679284028\n",
       "1636042515805110273 Gaia EDR3 2332946971566251520 ...  1.0756384023855436\n",
       "1636042515805110273 Gaia EDR3 2320703806512177024 ...  0.8380739060629262\n",
       "1636042515805110273 Gaia EDR3 2320963634853218688 ...  0.8600310760093016"
      ]
     },
     "execution_count": 64,
     "metadata": {},
     "output_type": "execute_result"
    }
   ],
   "source": []
  },
  {
   "cell_type": "code",
   "execution_count": 62,
   "id": "50b7ec61-49a2-487a-b210-22b72ade63ac",
   "metadata": {},
   "outputs": [
    {
     "data": {
      "text/plain": [
       "0"
      ]
     },
     "execution_count": 62,
     "metadata": {},
     "output_type": "execute_result"
    }
   ],
   "source": [
    "#see how many matches we have\n",
    "count=0\n",
    "for i in range (0, len(gaia_edr3['source_id'])):\n",
    "\n",
    "    if(gaia_edr3['source_id'][i] not in bjones['Source']):\n",
    "        count+=1\n",
    "count\n",
    "count + len(bjones['Source'])-len(gaia_edr3['source_id'])"
   ]
  },
  {
   "cell_type": "markdown",
   "id": "8310ce5d-c055-4d20-926f-d6d8b53669b2",
   "metadata": {},
   "source": [
    "Okay this gives all of the data that has Bailer jones distance estimates"
   ]
  },
  {
   "cell_type": "code",
   "execution_count": 46,
   "id": "d35ce059-0609-4f74-bee6-5a99936279fa",
   "metadata": {},
   "outputs": [
    {
     "data": {
      "text/plain": [
       "<TableColumns names=('Source','RA_ICRS','DE_ICRS','rgeo','b_rgeo','B_rgeo','rpgeo','b_rpgeo','B_rpgeo','Flag')>"
      ]
     },
     "execution_count": 46,
     "metadata": {},
     "output_type": "execute_result"
    }
   ],
   "source": [
    "bailer[0].columns"
   ]
  },
  {
   "cell_type": "code",
   "execution_count": 93,
   "id": "6c75e119-91f9-48db-9583-5d043095af98",
   "metadata": {},
   "outputs": [],
   "source": [
    "gaia_edr3=gaia_edr3[gaia_edr3['parallax']>=-1000] #there is probably a better way of getting rid of the zero values but we shouldnt have that\n",
    "\n",
    "#Now im getting rid of the values with a nonzero parallax\n"
   ]
  },
  {
   "cell_type": "code",
   "execution_count": 95,
   "id": "c3ff846d-a993-4f78-b400-179673417754",
   "metadata": {},
   "outputs": [
    {
     "data": {
      "text/plain": [
       "True"
      ]
     },
     "execution_count": 95,
     "metadata": {},
     "output_type": "execute_result"
    }
   ],
   "source": [
    "len(gaia_edr3)==len(bjones)\n",
    "\n",
    "#Great, so it works and now we have catalogues with the same values"
   ]
  },
  {
   "cell_type": "markdown",
   "id": "945924fe-e52a-49e2-8bf1-e838504074ad",
   "metadata": {},
   "source": [
    "# Now we need to add on the columns and merge them together, we order them by source code, that should maek it easier.\n",
    "\n"
   ]
  },
  {
   "cell_type": "code",
   "execution_count": 96,
   "id": "7ed4c4c7-a2da-47e6-836a-e476cc5bb6b9",
   "metadata": {},
   "outputs": [],
   "source": [
    "gaia_edr3=gaia_edr3[np.argsort(gaia_edr3['source_id'])]\n",
    "bjones=bjones[np.argsort(bjones['Source'])]"
   ]
  },
  {
   "cell_type": "code",
   "execution_count": 120,
   "id": "0a22e2d2-62ce-4a8a-8073-0b72960256fc",
   "metadata": {},
   "outputs": [
    {
     "data": {
      "text/plain": [
       "False"
      ]
     },
     "execution_count": 120,
     "metadata": {},
     "output_type": "execute_result"
    }
   ],
   "source": [
    "False in (gaia_edr3['source_id']==bjones['Source'])\n",
    "\n",
    "#these dataframes are weird but basically theyre the same\n",
    "#moreover i think i shoud have a pipline of changing these to more readable stuff lol\n",
    " "
   ]
  },
  {
   "cell_type": "code",
   "execution_count": 128,
   "id": "a4ecd793-3a3a-4e76-9e8a-707497a92b17",
   "metadata": {},
   "outputs": [
    {
     "ename": "TypeError",
     "evalue": "invalid type promotion with structured datatype(s).",
     "output_type": "error",
     "traceback": [
      "\u001b[1;31m---------------------------------------------------------------------------\u001b[0m",
      "\u001b[1;31mTypeError\u001b[0m                                 Traceback (most recent call last)",
      "\u001b[1;32mC:\\Users\\NEWUSE~1\\AppData\\Local\\Temp/ipykernel_15008/832400982.py\u001b[0m in \u001b[0;36m<module>\u001b[1;34m\u001b[0m\n\u001b[1;32m----> 1\u001b[1;33m \u001b[0mnp\u001b[0m\u001b[1;33m.\u001b[0m\u001b[0mhstack\u001b[0m\u001b[1;33m(\u001b[0m\u001b[1;33m[\u001b[0m\u001b[0mgaia_edr3\u001b[0m\u001b[1;33m,\u001b[0m \u001b[0mbjones\u001b[0m\u001b[1;33m]\u001b[0m\u001b[1;33m)\u001b[0m\u001b[1;33m\u001b[0m\u001b[1;33m\u001b[0m\u001b[0m\n\u001b[0m",
      "\u001b[1;32m<__array_function__ internals>\u001b[0m in \u001b[0;36mhstack\u001b[1;34m(*args, **kwargs)\u001b[0m\n",
      "\u001b[1;32m~\\anaconda3\\envs\\astro\\lib\\site-packages\\numpy\\core\\shape_base.py\u001b[0m in \u001b[0;36mhstack\u001b[1;34m(tup)\u001b[0m\n\u001b[0;32m    341\u001b[0m     \u001b[1;31m# As a special case, dimension 0 of 1-dimensional arrays is \"horizontal\"\u001b[0m\u001b[1;33m\u001b[0m\u001b[1;33m\u001b[0m\u001b[1;33m\u001b[0m\u001b[0m\n\u001b[0;32m    342\u001b[0m     \u001b[1;32mif\u001b[0m \u001b[0marrs\u001b[0m \u001b[1;32mand\u001b[0m \u001b[0marrs\u001b[0m\u001b[1;33m[\u001b[0m\u001b[1;36m0\u001b[0m\u001b[1;33m]\u001b[0m\u001b[1;33m.\u001b[0m\u001b[0mndim\u001b[0m \u001b[1;33m==\u001b[0m \u001b[1;36m1\u001b[0m\u001b[1;33m:\u001b[0m\u001b[1;33m\u001b[0m\u001b[1;33m\u001b[0m\u001b[0m\n\u001b[1;32m--> 343\u001b[1;33m         \u001b[1;32mreturn\u001b[0m \u001b[0m_nx\u001b[0m\u001b[1;33m.\u001b[0m\u001b[0mconcatenate\u001b[0m\u001b[1;33m(\u001b[0m\u001b[0marrs\u001b[0m\u001b[1;33m,\u001b[0m \u001b[1;36m0\u001b[0m\u001b[1;33m)\u001b[0m\u001b[1;33m\u001b[0m\u001b[1;33m\u001b[0m\u001b[0m\n\u001b[0m\u001b[0;32m    344\u001b[0m     \u001b[1;32melse\u001b[0m\u001b[1;33m:\u001b[0m\u001b[1;33m\u001b[0m\u001b[1;33m\u001b[0m\u001b[0m\n\u001b[0;32m    345\u001b[0m         \u001b[1;32mreturn\u001b[0m \u001b[0m_nx\u001b[0m\u001b[1;33m.\u001b[0m\u001b[0mconcatenate\u001b[0m\u001b[1;33m(\u001b[0m\u001b[0marrs\u001b[0m\u001b[1;33m,\u001b[0m \u001b[1;36m1\u001b[0m\u001b[1;33m)\u001b[0m\u001b[1;33m\u001b[0m\u001b[1;33m\u001b[0m\u001b[0m\n",
      "\u001b[1;32m<__array_function__ internals>\u001b[0m in \u001b[0;36mconcatenate\u001b[1;34m(*args, **kwargs)\u001b[0m\n",
      "\u001b[1;31mTypeError\u001b[0m: invalid type promotion with structured datatype(s)."
     ]
    }
   ],
   "source": [
    "np.hstack([gaia_edr3, bjones])  #fix"
   ]
  },
  {
   "cell_type": "code",
   "execution_count": null,
   "id": "41686986-8a13-4f20-8707-252f9d65e3c0",
   "metadata": {},
   "outputs": [],
   "source": []
  }
 ],
 "metadata": {
  "kernelspec": {
   "display_name": "Python [conda env:astro] *",
   "language": "python",
   "name": "conda-env-astro-py"
  },
  "language_info": {
   "codemirror_mode": {
    "name": "ipython",
    "version": 3
   },
   "file_extension": ".py",
   "mimetype": "text/x-python",
   "name": "python",
   "nbconvert_exporter": "python",
   "pygments_lexer": "ipython3",
   "version": "3.7.11"
  }
 },
 "nbformat": 4,
 "nbformat_minor": 5
}
